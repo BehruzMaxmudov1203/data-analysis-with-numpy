{
 "cells": [
  {
   "cell_type": "code",
   "execution_count": 2,
   "metadata": {},
   "outputs": [],
   "source": [
    "import numpy as np"
   ]
  },
  {
   "cell_type": "code",
   "execution_count": 17,
   "metadata": {},
   "outputs": [
    {
     "name": "stdout",
     "output_type": "stream",
     "text": [
      "[12 19  0  3  7  1 14 13  4  9]\n",
      "\n",
      "[ 0 10  4 17  5 15 16 16 15  0]\n"
     ]
    }
   ],
   "source": [
    "a = np.random.randint(20, size = 10)\n",
    "b = np.random.randint(20, size = 10)\n",
    "\n",
    "print(a)\n",
    "print()\n",
    "print(b)"
   ]
  },
  {
   "cell_type": "code",
   "execution_count": 11,
   "metadata": {},
   "outputs": [],
   "source": [
    "for i in range(a.shape[0]):\n",
    "    c = a[i] + b[i]"
   ]
  },
  {
   "cell_type": "code",
   "execution_count": 14,
   "metadata": {},
   "outputs": [
    {
     "name": "stdout",
     "output_type": "stream",
     "text": [
      "[18 20 21 ... 33 18 19]\n"
     ]
    }
   ],
   "source": [
    "c = a + b\n",
    "print(c)"
   ]
  },
  {
   "cell_type": "code",
   "execution_count": 15,
   "metadata": {},
   "outputs": [
    {
     "name": "stdout",
     "output_type": "stream",
     "text": [
      "[-12  16 -15 ...   5  -8   1]\n"
     ]
    }
   ],
   "source": [
    "c = a - b\n",
    "print(c)"
   ]
  },
  {
   "cell_type": "code",
   "execution_count": 16,
   "metadata": {},
   "outputs": [
    {
     "name": "stdout",
     "output_type": "stream",
     "text": [
      "[0.2        9.         0.16666667 ... 1.35714286 0.38461538 1.11111111]\n"
     ]
    },
    {
     "name": "stderr",
     "output_type": "stream",
     "text": [
      "C:\\Users\\behru\\AppData\\Local\\Temp\\ipykernel_23872\\1994184757.py:1: RuntimeWarning: divide by zero encountered in divide\n",
      "  c = a / b\n",
      "C:\\Users\\behru\\AppData\\Local\\Temp\\ipykernel_23872\\1994184757.py:1: RuntimeWarning: invalid value encountered in divide\n",
      "  c = a / b\n"
     ]
    }
   ],
   "source": [
    "c = a / b\n",
    "print(c)"
   ]
  },
  {
   "cell_type": "code",
   "execution_count": 18,
   "metadata": {},
   "outputs": [
    {
     "name": "stdout",
     "output_type": "stream",
     "text": [
      "[  0 190   0  51  35  15 224 208  60   0]\n"
     ]
    }
   ],
   "source": [
    "c = a * b\n",
    "print(c)"
   ]
  },
  {
   "cell_type": "code",
   "execution_count": 22,
   "metadata": {},
   "outputs": [
    {
     "ename": "ValueError",
     "evalue": "operands could not be broadcast together with shapes (11,) (10,) ",
     "output_type": "error",
     "traceback": [
      "\u001b[1;31m---------------------------------------------------------------------------\u001b[0m",
      "\u001b[1;31mValueError\u001b[0m                                Traceback (most recent call last)",
      "Cell \u001b[1;32mIn[22], line 3\u001b[0m\n\u001b[0;32m      1\u001b[0m a \u001b[38;5;241m=\u001b[39m np\u001b[38;5;241m.\u001b[39mrandom\u001b[38;5;241m.\u001b[39mrandint(\u001b[38;5;241m20\u001b[39m,size\u001b[38;5;241m=\u001b[39m\u001b[38;5;241m11\u001b[39m)\n\u001b[0;32m      2\u001b[0m b \u001b[38;5;241m=\u001b[39m np\u001b[38;5;241m.\u001b[39mrandom\u001b[38;5;241m.\u001b[39mrandint(\u001b[38;5;241m20\u001b[39m,size\u001b[38;5;241m=\u001b[39m\u001b[38;5;241m10\u001b[39m)\n\u001b[1;32m----> 3\u001b[0m c \u001b[38;5;241m=\u001b[39m \u001b[43ma\u001b[49m\u001b[43m \u001b[49m\u001b[38;5;241;43m*\u001b[39;49m\u001b[43m \u001b[49m\u001b[43mb\u001b[49m\n\u001b[0;32m      4\u001b[0m \u001b[38;5;28mprint\u001b[39m(c)\n",
      "\u001b[1;31mValueError\u001b[0m: operands could not be broadcast together with shapes (11,) (10,) "
     ]
    }
   ],
   "source": [
    "a = np.random.randint(20,size=11)\n",
    "b = np.random.randint(20,size=10)\n",
    "c = a * b\n",
    "print(c)"
   ]
  },
  {
   "cell_type": "code",
   "execution_count": 26,
   "metadata": {},
   "outputs": [
    {
     "name": "stdout",
     "output_type": "stream",
     "text": [
      "[14 15  0  1  1 16 11 17  8  8]\n",
      "\n",
      "[12 14  7  6 18 14  0  5 18  5]\n"
     ]
    }
   ],
   "source": [
    "a = np.random.randint(20, size = 10)\n",
    "b = np.random.randint(20, size = 10)\n",
    "\n",
    "print(a)\n",
    "print()\n",
    "print(b)"
   ]
  },
  {
   "cell_type": "code",
   "execution_count": 29,
   "metadata": {},
   "outputs": [
    {
     "name": "stdout",
     "output_type": "stream",
     "text": [
      "[70 75  0  5  5 80 55 85 40 40]\n"
     ]
    }
   ],
   "source": [
    "c = a * 5\n",
    "print(c)"
   ]
  },
  {
   "cell_type": "code",
   "execution_count": 30,
   "metadata": {},
   "outputs": [
    {
     "name": "stdout",
     "output_type": "stream",
     "text": [
      "[196 225   0   1   1 256 121 289  64  64]\n"
     ]
    }
   ],
   "source": [
    "c = a ** 2\n",
    "print(c)"
   ]
  },
  {
   "cell_type": "code",
   "execution_count": 31,
   "metadata": {},
   "outputs": [
    {
     "name": "stdout",
     "output_type": "stream",
     "text": [
      "[0 1 0 1 1 0 1 1 0 0]\n"
     ]
    }
   ],
   "source": [
    "c = c % 2\n",
    "print(c)"
   ]
  },
  {
   "cell_type": "code",
   "execution_count": 32,
   "metadata": {},
   "outputs": [
    {
     "name": "stdout",
     "output_type": "stream",
     "text": [
      "[7 7 0 0 0 8 5 8 4 4]\n"
     ]
    }
   ],
   "source": [
    "c = a // 2\n",
    "print(c)"
   ]
  },
  {
   "cell_type": "code",
   "execution_count": 34,
   "metadata": {},
   "outputs": [
    {
     "name": "stdout",
     "output_type": "stream",
     "text": [
      "[14 15  0  1  1 16 11 17  8  8]\n",
      "[1.20260428e+06 3.26901737e+06 1.00000000e+00 2.71828183e+00\n",
      " 2.71828183e+00 8.88611052e+06 5.98741417e+04 2.41549528e+07\n",
      " 2.98095799e+03 2.98095799e+03]\n"
     ]
    }
   ],
   "source": [
    "print(a)\n",
    "c = np.exp(a)\n",
    "print(c)"
   ]
  },
  {
   "cell_type": "code",
   "execution_count": 36,
   "metadata": {},
   "outputs": [
    {
     "name": "stdout",
     "output_type": "stream",
     "text": [
      "[14 15  0  1  1 16 11 17  8  8]\n",
      "[14 15  0  1  1 16 11 17  8  8]\n"
     ]
    }
   ],
   "source": [
    "print(a)\n",
    "c = np.abs(a)\n",
    "print(c)"
   ]
  },
  {
   "cell_type": "code",
   "execution_count": 38,
   "metadata": {},
   "outputs": [
    {
     "name": "stdout",
     "output_type": "stream",
     "text": [
      "[14 15  0  1  1 16 11 17  8  8]\n",
      "91\n"
     ]
    }
   ],
   "source": [
    "print(a)\n",
    "c = np.sum(a)\n",
    "print(c)"
   ]
  },
  {
   "cell_type": "code",
   "execution_count": 40,
   "metadata": {},
   "outputs": [
    {
     "name": "stdout",
     "output_type": "stream",
     "text": [
      "[14 15  0  1  1 16 11 17  8  8]\n",
      "17\n"
     ]
    }
   ],
   "source": [
    "print(a)\n",
    "c = np.max(a)\n",
    "print(c)"
   ]
  },
  {
   "cell_type": "code",
   "execution_count": 41,
   "metadata": {},
   "outputs": [
    {
     "name": "stdout",
     "output_type": "stream",
     "text": [
      "[19  0  7  0  4  0  8  0  5  2]\n",
      "\n",
      "[ 3  7 18  7 18 17  4  8  9  7]\n"
     ]
    }
   ],
   "source": [
    "a = np.random.randint(20, size = 10)\n",
    "b = np.random.randint(20, size = 10)\n",
    "\n",
    "print(a)\n",
    "print()\n",
    "print(b)"
   ]
  },
  {
   "cell_type": "code",
   "execution_count": null,
   "metadata": {},
   "outputs": [
    {
     "name": "stdout",
     "output_type": "stream",
     "text": [
      "346\n",
      "346\n",
      "346\n"
     ]
    }
   ],
   "source": [
    "# Sikaliyar ko'paytma\n",
    "print(np.dot(a, b))\n",
    "print(np.sum(a * b))\n",
    "print(np.inner(a, b))"
   ]
  },
  {
   "cell_type": "code",
   "execution_count": null,
   "metadata": {},
   "outputs": [
    {
     "name": "stdout",
     "output_type": "stream",
     "text": [
      "[[ 57 133 342 133 342 323  76 152 171 133]\n",
      " [  0   0   0   0   0   0   0   0   0   0]\n",
      " [ 21  49 126  49 126 119  28  56  63  49]\n",
      " [  0   0   0   0   0   0   0   0   0   0]\n",
      " [ 12  28  72  28  72  68  16  32  36  28]\n",
      " [  0   0   0   0   0   0   0   0   0   0]\n",
      " [ 24  56 144  56 144 136  32  64  72  56]\n",
      " [  0   0   0   0   0   0   0   0   0   0]\n",
      " [ 15  35  90  35  90  85  20  40  45  35]\n",
      " [  6  14  36  14  36  34   8  16  18  14]]\n"
     ]
    }
   ],
   "source": [
    "# outer -> tashqi ko'paytma yani a ni b ni barcha qiymatiga ko'yaptiuradi qadamma qadam\n",
    "C = np.outer(a, b)\n",
    "print(C)"
   ]
  },
  {
   "cell_type": "code",
   "execution_count": 49,
   "metadata": {},
   "outputs": [
    {
     "name": "stdout",
     "output_type": "stream",
     "text": [
      "[19  0  7  0  4  0  8  0  5  2]\n",
      "False\n"
     ]
    }
   ],
   "source": [
    "print(a)\n",
    "c = np.all(a)\n",
    "print(c)"
   ]
  },
  {
   "cell_type": "code",
   "execution_count": 58,
   "metadata": {},
   "outputs": [
    {
     "name": "stdout",
     "output_type": "stream",
     "text": [
      "[19  0  7  0  4  0  8  0  5  2]\n",
      "[ 3  7 18  7 18 17  4  8  9  7]\n",
      "[ True  True  True  True  True  True  True  True  True  True]\n"
     ]
    }
   ],
   "source": [
    "print(a)\n",
    "print(b)\n",
    "c = a != b\n",
    "print(c)"
   ]
  },
  {
   "cell_type": "code",
   "execution_count": 61,
   "metadata": {},
   "outputs": [
    {
     "name": "stdout",
     "output_type": "stream",
     "text": [
      "[ True  True  True False  True  True False False False  True]\n",
      "\n",
      "[ True  True  True  True False  True False  True False  True]\n"
     ]
    }
   ],
   "source": [
    "a = np.random.randint(2, size=(10, ), dtype = np.bool)\n",
    "b = np.random.randint(2, size=(10, ), dtype = np.bool)\n",
    "\n",
    "print(a)\n",
    "print()\n",
    "print(b)\n"
   ]
  },
  {
   "cell_type": "code",
   "execution_count": 65,
   "metadata": {},
   "outputs": [
    {
     "name": "stdout",
     "output_type": "stream",
     "text": [
      "[ True  True  True False False  True False False False  True]\n"
     ]
    }
   ],
   "source": [
    "# yantiqiy va  yani 0 && 1 = 0 , 1 && 1 = 1 --> 0 qatnashsa  0 bo'ladi\n",
    "c = np.logical_and(a,b)\n",
    "print(c)"
   ]
  },
  {
   "cell_type": "code",
   "execution_count": null,
   "metadata": {},
   "outputs": [
    {
     "name": "stdout",
     "output_type": "stream",
     "text": [
      "[ True  True  True  True  True  True False  True False  True]\n"
     ]
    }
   ],
   "source": [
    "# Mantiqiy || yoki yani 0 || 1 = 1 , 0 || 0 = 0 , 1 || 1 = 1 mantiqiy yoki bitta rost qatnas bo'ldi rost bo'ladi\n",
    "c = np.logical_or(a,b)\n",
    "print(c)"
   ]
  },
  {
   "cell_type": "code",
   "execution_count": null,
   "metadata": {},
   "outputs": [
    {
     "name": "stdout",
     "output_type": "stream",
     "text": [
      "[False False False  True False False  True  True  True False]\n"
     ]
    }
   ],
   "source": [
    "# not operatori unar operator \n",
    "c = np.logical_not(a)\n",
    "print(c)"
   ]
  },
  {
   "cell_type": "code",
   "execution_count": 70,
   "metadata": {},
   "outputs": [
    {
     "data": {
      "text/plain": [
       "True"
      ]
     },
     "execution_count": 70,
     "metadata": {},
     "output_type": "execute_result"
    }
   ],
   "source": [
    "c = a\n",
    "c is a"
   ]
  },
  {
   "cell_type": "code",
   "execution_count": 79,
   "metadata": {},
   "outputs": [
    {
     "name": "stdout",
     "output_type": "stream",
     "text": [
      "[10  1  9  3 15 13  0 14  2 15]\n",
      "\n",
      "[ 7  4  1  5 17  6 11  5 16  1]\n"
     ]
    }
   ],
   "source": [
    "a = np.random.randint(20, size = 10)\n",
    "b = np.random.randint(20, size = 10)\n",
    "\n",
    "print(a)\n",
    "print()\n",
    "print(b)"
   ]
  },
  {
   "cell_type": "code",
   "execution_count": 78,
   "metadata": {},
   "outputs": [
    {
     "data": {
      "text/plain": [
       "False"
      ]
     },
     "execution_count": 78,
     "metadata": {},
     "output_type": "execute_result"
    }
   ],
   "source": [
    "71 in a"
   ]
  },
  {
   "cell_type": "code",
   "execution_count": 77,
   "metadata": {},
   "outputs": [
    {
     "name": "stdout",
     "output_type": "stream",
     "text": [
      "[ 3  0  1 19 17 13 13 15 12  7]\n",
      "[-0.9899925   1.          0.54030231  0.98870462 -0.27516334  0.90744678\n",
      "  0.90744678 -0.75968791  0.84385396  0.75390225]\n"
     ]
    }
   ],
   "source": [
    "print(a)\n",
    "c = np.cos(a)\n",
    "print(c)"
   ]
  },
  {
   "cell_type": "code",
   "execution_count": null,
   "metadata": {},
   "outputs": [
    {
     "name": "stdout",
     "output_type": "stream",
     "text": [
      "[[12  7  5]\n",
      " [14  9 12]\n",
      " [12  3 11]\n",
      " [ 8 18  6]]\n",
      "\n",
      "[[14  4  6]\n",
      " [ 0  7 16]\n",
      " [ 9  4  3]\n",
      " [ 1 10  6]]\n"
     ]
    }
   ],
   "source": [
    "A = np.random.randint(20, size = (4,3))\n",
    "B = np.random.randint(20, size = (4,3))\n",
    "\n",
    "print(A)\n",
    "print()\n",
    "print(B)"
   ]
  },
  {
   "cell_type": "code",
   "execution_count": 91,
   "metadata": {},
   "outputs": [
    {
     "name": "stdout",
     "output_type": "stream",
     "text": [
      "[[26 11 11]\n",
      " [14 16 28]\n",
      " [21  7 14]\n",
      " [ 9 28 12]]\n"
     ]
    }
   ],
   "source": [
    "C = A + B\n",
    "print(C)"
   ]
  },
  {
   "cell_type": "code",
   "execution_count": 92,
   "metadata": {},
   "outputs": [
    {
     "name": "stdout",
     "output_type": "stream",
     "text": [
      "[[-2  3 -1]\n",
      " [14  2 -4]\n",
      " [ 3 -1  8]\n",
      " [ 7  8  0]]\n"
     ]
    }
   ],
   "source": [
    "C = A - B\n",
    "print(C)"
   ]
  },
  {
   "cell_type": "code",
   "execution_count": 95,
   "metadata": {},
   "outputs": [
    {
     "name": "stdout",
     "output_type": "stream",
     "text": [
      "[[168  28  30]\n",
      " [  0  63 192]\n",
      " [108  12  33]\n",
      " [  8 180  36]]\n"
     ]
    }
   ],
   "source": [
    "C = A * B\n",
    "print(C)"
   ]
  },
  {
   "cell_type": "code",
   "execution_count": 94,
   "metadata": {},
   "outputs": [
    {
     "name": "stdout",
     "output_type": "stream",
     "text": [
      "[[0.85714286 1.75       0.83333333]\n",
      " [       inf 1.28571429 0.75      ]\n",
      " [1.33333333 0.75       3.66666667]\n",
      " [8.         1.8        1.        ]]\n"
     ]
    },
    {
     "name": "stderr",
     "output_type": "stream",
     "text": [
      "C:\\Users\\behru\\AppData\\Local\\Temp\\ipykernel_23872\\3909228385.py:1: RuntimeWarning: divide by zero encountered in divide\n",
      "  C = A / B\n"
     ]
    }
   ],
   "source": [
    "C = A / B\n",
    "print(C)"
   ]
  },
  {
   "cell_type": "code",
   "execution_count": 96,
   "metadata": {},
   "outputs": [
    {
     "name": "stdout",
     "output_type": "stream",
     "text": [
      "[[False False False]\n",
      " [False False False]\n",
      " [False False False]\n",
      " [False False  True]]\n"
     ]
    }
   ],
   "source": [
    "C = A == B\n",
    "print(C)"
   ]
  },
  {
   "cell_type": "code",
   "execution_count": 98,
   "metadata": {},
   "outputs": [
    {
     "name": "stdout",
     "output_type": "stream",
     "text": [
      "[[[14  0]\n",
      "  [ 6 14]\n",
      "  [15 13]]\n",
      "\n",
      " [[ 4  3]\n",
      "  [12  7]\n",
      "  [ 6 13]]\n",
      "\n",
      " [[15  5]\n",
      "  [10 10]\n",
      "  [ 4  1]]\n",
      "\n",
      " [[15 10]\n",
      "  [ 5  5]\n",
      "  [ 3  3]]]\n",
      "-------------------------------------------\n",
      "[[[ 7 10]\n",
      "  [10  9]\n",
      "  [16  4]]\n",
      "\n",
      " [[13  0]\n",
      "  [ 6  4]\n",
      "  [ 6  6]]\n",
      "\n",
      " [[14  8]\n",
      "  [19 12]\n",
      "  [11  6]]\n",
      "\n",
      " [[ 2 16]\n",
      "  [11 14]\n",
      "  [12  2]]]\n"
     ]
    }
   ],
   "source": [
    "A = np.random.randint(20, size = (4, 3, 2))\n",
    "B = np.random.randint(20, size = (4, 3, 2))\n",
    "\n",
    "print(A)\n",
    "print(\"-------------------------------------------\")\n",
    "print(B)"
   ]
  },
  {
   "cell_type": "code",
   "execution_count": 99,
   "metadata": {},
   "outputs": [
    {
     "name": "stdout",
     "output_type": "stream",
     "text": [
      "[[[21 10]\n",
      "  [16 23]\n",
      "  [31 17]]\n",
      "\n",
      " [[17  3]\n",
      "  [18 11]\n",
      "  [12 19]]\n",
      "\n",
      " [[29 13]\n",
      "  [29 22]\n",
      "  [15  7]]\n",
      "\n",
      " [[17 26]\n",
      "  [16 19]\n",
      "  [15  5]]]\n"
     ]
    }
   ],
   "source": [
    "C = A + B\n",
    "print(C)"
   ]
  },
  {
   "cell_type": "code",
   "execution_count": 108,
   "metadata": {},
   "outputs": [
    {
     "name": "stdout",
     "output_type": "stream",
     "text": [
      "[[18  1  8]\n",
      " [ 2 11 16]\n",
      " [ 2  8  9]\n",
      " [12  1 13]\n",
      " [18  0  4]]\n",
      "___________________________________\n",
      "[[14  6 10  5]\n",
      " [11 18 16  1]\n",
      " [ 0 17  1  8]]\n"
     ]
    }
   ],
   "source": [
    "# matrissani matrissaga ko'paytirish uchun \n",
    "A = np.random.randint(20, size = (5, 3))\n",
    "B = np.random.randint(20, size = (3, 4))\n",
    "\n",
    "print(A)\n",
    "print(\"___________________________________\")\n",
    "print(B)"
   ]
  },
  {
   "cell_type": "code",
   "execution_count": 109,
   "metadata": {},
   "outputs": [
    {
     "name": "stdout",
     "output_type": "stream",
     "text": [
      "[[263 262 204 155]\n",
      " [149 482 212 149]\n",
      " [116 309 157  90]\n",
      " [179 311 149 165]\n",
      " [252 176 184 122]]\n"
     ]
    }
   ],
   "source": [
    "C = np.matmul(A, B)\n",
    "print(C)"
   ]
  },
  {
   "cell_type": "code",
   "execution_count": 110,
   "metadata": {},
   "outputs": [
    {
     "name": "stdout",
     "output_type": "stream",
     "text": [
      "[[ 2  8  8]\n",
      " [ 7  5  8]\n",
      " [10 13 18]\n",
      " [16  5 13]\n",
      " [16  5  1]]\n",
      "___________________________________\n",
      "[[12  1  3 14]\n",
      " [10  9 11  2]\n",
      " [ 0  3 12  5]]\n"
     ]
    }
   ],
   "source": [
    "# matrissani matrissaga ko'paytirish uchun \n",
    "A = np.random.randint(20, size = (5, 3))\n",
    "B = np.random.randint(20, size = (3, 4))\n",
    "\n",
    "print(A)\n",
    "print(\"___________________________________\")\n",
    "print(B)"
   ]
  },
  {
   "cell_type": "code",
   "execution_count": null,
   "metadata": {},
   "outputs": [
    {
     "data": {
      "text/plain": [
       "array([18, 20, 41, 34, 22])"
      ]
     },
     "execution_count": 112,
     "metadata": {},
     "output_type": "execute_result"
    }
   ],
   "source": [
    "# matrissa qatorlar yig'indisi\n",
    "np.sum(A,axis=1)"
   ]
  },
  {
   "cell_type": "code",
   "execution_count": 113,
   "metadata": {},
   "outputs": [
    {
     "data": {
      "text/plain": [
       "array([51, 36, 48])"
      ]
     },
     "execution_count": 113,
     "metadata": {},
     "output_type": "execute_result"
    }
   ],
   "source": [
    "# matrisa ustunlar yi'g'indisi\n",
    "np.sum(A, axis = 0)"
   ]
  },
  {
   "cell_type": "code",
   "execution_count": 114,
   "metadata": {},
   "outputs": [
    {
     "data": {
      "text/plain": [
       "np.int32(18)"
      ]
     },
     "execution_count": 114,
     "metadata": {},
     "output_type": "execute_result"
    }
   ],
   "source": [
    "np.max(A)"
   ]
  },
  {
   "cell_type": "code",
   "execution_count": 115,
   "metadata": {},
   "outputs": [
    {
     "data": {
      "text/plain": [
       "np.int64(8)"
      ]
     },
     "execution_count": 115,
     "metadata": {},
     "output_type": "execute_result"
    }
   ],
   "source": [
    "np.argmax(A)"
   ]
  },
  {
   "cell_type": "code",
   "execution_count": 116,
   "metadata": {},
   "outputs": [
    {
     "data": {
      "text/plain": [
       "array([ 8,  8, 18, 16, 16], dtype=int32)"
      ]
     },
     "execution_count": 116,
     "metadata": {},
     "output_type": "execute_result"
    }
   ],
   "source": [
    "np.max(A,axis=1)"
   ]
  },
  {
   "cell_type": "code",
   "execution_count": 117,
   "metadata": {},
   "outputs": [
    {
     "data": {
      "text/plain": [
       "array([1, 2, 2, 0, 0])"
      ]
     },
     "execution_count": 117,
     "metadata": {},
     "output_type": "execute_result"
    }
   ],
   "source": [
    "np.argmax(A, axis = 1)"
   ]
  },
  {
   "cell_type": "code",
   "execution_count": 119,
   "metadata": {},
   "outputs": [
    {
     "name": "stdout",
     "output_type": "stream",
     "text": [
      "9.0\n"
     ]
    }
   ],
   "source": [
    "print(np.mean(A))"
   ]
  },
  {
   "cell_type": "code",
   "execution_count": 120,
   "metadata": {},
   "outputs": [
    {
     "name": "stdout",
     "output_type": "stream",
     "text": [
      "5.033222956847166\n"
     ]
    }
   ],
   "source": [
    "print(np.std(A))"
   ]
  },
  {
   "cell_type": "code",
   "execution_count": 121,
   "metadata": {},
   "outputs": [
    {
     "name": "stdout",
     "output_type": "stream",
     "text": [
      "25.333333333333332\n"
     ]
    }
   ],
   "source": [
    "print(np.var(A))"
   ]
  },
  {
   "cell_type": "code",
   "execution_count": 122,
   "metadata": {},
   "outputs": [
    {
     "name": "stdout",
     "output_type": "stream",
     "text": [
      "[5.38144962 3.12409987 5.67802783]\n"
     ]
    }
   ],
   "source": [
    "print(np.std(A, axis = 0))"
   ]
  },
  {
   "cell_type": "code",
   "execution_count": 123,
   "metadata": {},
   "outputs": [
    {
     "name": "stdout",
     "output_type": "stream",
     "text": [
      "[[[ 0  3  0 10]\n",
      "  [16 13  7 10]\n",
      "  [19  6 15  5]]\n",
      "\n",
      " [[ 7 15 13  2]\n",
      "  [ 4 10 18 15]\n",
      "  [13  9 17 19]]\n",
      "\n",
      " [[ 9  7  7  3]\n",
      "  [10 15 16 10]\n",
      "  [15  9  9 18]]\n",
      "\n",
      " [[11  5  1  0]\n",
      "  [ 3 16 15 17]\n",
      "  [11 19 16  6]]\n",
      "\n",
      " [[10 19 19  6]\n",
      "  [14  5  5  4]\n",
      "  [ 7  2  0 11]]]\n",
      "___________________________________\n"
     ]
    }
   ],
   "source": [
    "# matrissani matrissaga ko'paytirish uchun \n",
    "A = np.random.randint(20, size = (5, 3, 4))\n",
    "\n",
    "print(A)\n",
    "print(\"___________________________________\")"
   ]
  },
  {
   "cell_type": "code",
   "execution_count": null,
   "metadata": {},
   "outputs": [
    {
     "name": "stdout",
     "output_type": "stream",
     "text": [
      "596\n"
     ]
    }
   ],
   "source": [
    "print(np.sum(A,axis=0))"
   ]
  },
  {
   "cell_type": "code",
   "execution_count": 127,
   "metadata": {},
   "outputs": [
    {
     "name": "stdout",
     "output_type": "stream",
     "text": [
      "[[35 22 22 25]\n",
      " [24 34 48 36]\n",
      " [34 31 32 31]\n",
      " [25 40 32 23]\n",
      " [31 26 24 21]]\n"
     ]
    }
   ],
   "source": [
    "print(np.sum(A, axis = 1))"
   ]
  },
  {
   "cell_type": "code",
   "execution_count": 128,
   "metadata": {},
   "outputs": [
    {
     "name": "stdout",
     "output_type": "stream",
     "text": [
      "[[13 46 45]\n",
      " [37 47 58]\n",
      " [26 51 51]\n",
      " [17 51 52]\n",
      " [54 28 20]]\n"
     ]
    }
   ],
   "source": [
    "print(np.sum(A, axis = 2))"
   ]
  },
  {
   "cell_type": "code",
   "execution_count": 130,
   "metadata": {},
   "outputs": [
    {
     "name": "stdout",
     "output_type": "stream",
     "text": [
      "[[15  8  5]\n",
      " [ 7 19  8]\n",
      " [14 10  1]\n",
      " [ 4  0 17]\n",
      " [ 7 18 11]]\n"
     ]
    }
   ],
   "source": [
    "A = np.random.randint(20, size = (5, 3))\n",
    "\n",
    "print(A)"
   ]
  },
  {
   "cell_type": "code",
   "execution_count": 131,
   "metadata": {},
   "outputs": [
    {
     "data": {
      "text/plain": [
       "array([[15,  7, 14,  4,  7],\n",
       "       [ 8, 19, 10,  0, 18],\n",
       "       [ 5,  8,  1, 17, 11]], dtype=int32)"
      ]
     },
     "execution_count": 131,
     "metadata": {},
     "output_type": "execute_result"
    }
   ],
   "source": [
    "A.T"
   ]
  },
  {
   "cell_type": "code",
   "execution_count": 186,
   "metadata": {},
   "outputs": [
    {
     "name": "stdout",
     "output_type": "stream",
     "text": [
      "[ 0 18  2  0  8  5  1  3 18  0 14  1  7 12 11]\n"
     ]
    }
   ],
   "source": [
    "A = np.random.randint(20, size = (5, 3))\n",
    "c = A.ravel()\n",
    "print(c)"
   ]
  },
  {
   "cell_type": "code",
   "execution_count": 196,
   "metadata": {},
   "outputs": [],
   "source": [
    "np.save('A.npy' ,A)\n",
    "np.savetxt('A.txt', A, fmt = \"%d\")"
   ]
  },
  {
   "cell_type": "code",
   "execution_count": 195,
   "metadata": {},
   "outputs": [
    {
     "data": {
      "text/plain": [
       "array([[ 0., 18.,  2.],\n",
       "       [ 0.,  8.,  5.],\n",
       "       [ 1.,  3., 18.],\n",
       "       [ 0., 14.,  1.],\n",
       "       [ 7., 12., 11.]])"
      ]
     },
     "execution_count": 195,
     "metadata": {},
     "output_type": "execute_result"
    }
   ],
   "source": [
    "A = np.load('A.npy')\n",
    "A"
   ]
  },
  {
   "cell_type": "code",
   "execution_count": 1,
   "metadata": {},
   "outputs": [],
   "source": [
    "import numpy as np"
   ]
  },
  {
   "cell_type": "code",
   "execution_count": 3,
   "metadata": {},
   "outputs": [
    {
     "data": {
      "text/plain": [
       "array([[ 0., 18.,  2.],\n",
       "       [ 0.,  8.,  5.],\n",
       "       [ 1.,  3., 18.],\n",
       "       [ 0., 14.,  1.],\n",
       "       [ 7., 12., 11.]])"
      ]
     },
     "execution_count": 3,
     "metadata": {},
     "output_type": "execute_result"
    }
   ],
   "source": [
    "A = np.load('A.npy')\n",
    "A"
   ]
  },
  {
   "cell_type": "code",
   "execution_count": 4,
   "metadata": {},
   "outputs": [],
   "source": [
    "a = np.array([0, 1, 2])"
   ]
  },
  {
   "cell_type": "code",
   "execution_count": 5,
   "metadata": {},
   "outputs": [
    {
     "data": {
      "text/plain": [
       "array([[ 0., 19.,  4.],\n",
       "       [ 0.,  9.,  7.],\n",
       "       [ 1.,  4., 20.],\n",
       "       [ 0., 15.,  3.],\n",
       "       [ 7., 13., 13.]])"
      ]
     },
     "execution_count": 5,
     "metadata": {},
     "output_type": "execute_result"
    }
   ],
   "source": [
    "B = A + a\n",
    "B"
   ]
  },
  {
   "cell_type": "code",
   "execution_count": 12,
   "metadata": {},
   "outputs": [
    {
     "data": {
      "text/plain": [
       "array([[1],\n",
       "       [1],\n",
       "       [2],\n",
       "       [3],\n",
       "       [4]])"
      ]
     },
     "execution_count": 12,
     "metadata": {},
     "output_type": "execute_result"
    }
   ],
   "source": [
    "b = np.array([1, 1, 2, 3, 4]).reshape((5, 1))\n",
    "b"
   ]
  },
  {
   "cell_type": "code",
   "execution_count": 10,
   "metadata": {},
   "outputs": [
    {
     "data": {
      "text/plain": [
       "array([[ 0., 18.,  2.],\n",
       "       [ 0.,  8.,  5.],\n",
       "       [ 1.,  3., 18.],\n",
       "       [ 0., 14.,  1.],\n",
       "       [ 7., 12., 11.]])"
      ]
     },
     "execution_count": 10,
     "metadata": {},
     "output_type": "execute_result"
    }
   ],
   "source": [
    "A"
   ]
  },
  {
   "cell_type": "code",
   "execution_count": 9,
   "metadata": {},
   "outputs": [
    {
     "data": {
      "text/plain": [
       "array([[ 0., 18.,  2.],\n",
       "       [ 1.,  9.,  6.],\n",
       "       [ 3.,  5., 20.],\n",
       "       [ 3., 17.,  4.],\n",
       "       [11., 16., 15.]])"
      ]
     },
     "execution_count": 9,
     "metadata": {},
     "output_type": "execute_result"
    }
   ],
   "source": [
    "C = A + b\n",
    "C"
   ]
  },
  {
   "cell_type": "code",
   "execution_count": 13,
   "metadata": {},
   "outputs": [
    {
     "data": {
      "text/plain": [
       "array([[ 0.        , 18.        ,  2.        ],\n",
       "       [ 0.        ,  8.        ,  5.        ],\n",
       "       [ 0.5       ,  1.5       ,  9.        ],\n",
       "       [ 0.        ,  4.66666667,  0.33333333],\n",
       "       [ 1.75      ,  3.        ,  2.75      ]])"
      ]
     },
     "execution_count": 13,
     "metadata": {},
     "output_type": "execute_result"
    }
   ],
   "source": [
    "C = A / b\n",
    "C"
   ]
  },
  {
   "cell_type": "code",
   "execution_count": 14,
   "metadata": {},
   "outputs": [
    {
     "data": {
      "text/plain": [
       "array([[ 0., 18.,  2.],\n",
       "       [ 0.,  8.,  5.],\n",
       "       [ 2.,  6., 36.],\n",
       "       [ 0., 42.,  3.],\n",
       "       [28., 48., 44.]])"
      ]
     },
     "execution_count": 14,
     "metadata": {},
     "output_type": "execute_result"
    }
   ],
   "source": [
    "C = A * b\n",
    "C"
   ]
  },
  {
   "cell_type": "code",
   "execution_count": null,
   "metadata": {},
   "outputs": [
    {
     "data": {
      "text/plain": [
       "array([[4.45412685e-01, 2.48187210e-01, 7.03661130e-01, 8.81454827e-01,\n",
       "        8.56222554e-01],\n",
       "       [6.33385112e-01, 1.45815844e-01, 4.18931588e-01, 9.17526106e-01,\n",
       "        6.52333106e-01],\n",
       "       [8.76433745e-01, 3.84484615e-01, 5.37609763e-01, 2.87244504e-01,\n",
       "        6.70768461e-01],\n",
       "       [6.42221263e-01, 8.79520578e-01, 8.76833017e-01, 6.06361738e-01,\n",
       "        6.76884229e-01],\n",
       "       [7.92127456e-01, 7.88496524e-01, 8.67061612e-02, 2.33676229e-01,\n",
       "        3.30879211e-01],\n",
       "       [5.77894808e-01, 2.20994165e-01, 9.70610561e-01, 4.74329543e-01,\n",
       "        8.34342856e-01],\n",
       "       [4.29483493e-01, 8.19661181e-01, 4.71586760e-02, 7.92801308e-01,\n",
       "        2.16958938e-01],\n",
       "       [6.98956049e-01, 5.23856733e-01, 4.58767278e-01, 3.42225708e-01,\n",
       "        1.22967247e-01],\n",
       "       [2.37519932e-01, 7.01302501e-01, 3.91707318e-01, 7.49253397e-01,\n",
       "        1.91697801e-01],\n",
       "       [6.42635025e-01, 2.76534955e-01, 4.61802976e-01, 9.01707900e-01,\n",
       "        6.38826789e-01],\n",
       "       [7.02953541e-01, 8.24708560e-01, 7.40051970e-01, 3.39133217e-02,\n",
       "        9.32277087e-01],\n",
       "       [9.35067651e-03, 9.71142588e-01, 4.88272504e-01, 1.06242778e-01,\n",
       "        5.33817875e-02],\n",
       "       [7.96516406e-01, 7.81309915e-01, 9.90322077e-01, 2.41560027e-01,\n",
       "        2.40311489e-01],\n",
       "       [9.90876783e-01, 9.16821888e-01, 9.85819057e-01, 2.10610286e-01,\n",
       "        1.54950243e-01],\n",
       "       [4.20085954e-02, 3.85913768e-01, 7.55128172e-01, 3.13423084e-01,\n",
       "        4.76582340e-01],\n",
       "       [5.12227773e-01, 2.96466008e-01, 7.07351595e-01, 5.17094857e-01,\n",
       "        9.09280705e-01],\n",
       "       [4.30744857e-01, 3.58042437e-02, 7.47626237e-01, 5.72137224e-01,\n",
       "        6.70996199e-01],\n",
       "       [9.37834532e-01, 8.54750188e-01, 9.52982624e-01, 8.21272337e-01,\n",
       "        7.31630781e-01],\n",
       "       [8.24302952e-01, 9.49953898e-01, 5.64638617e-01, 5.15074956e-01,\n",
       "        6.08913256e-01],\n",
       "       [3.55581989e-02, 8.45182628e-01, 9.85301823e-01, 6.18702312e-01,\n",
       "        9.91360623e-01],\n",
       "       [9.13343734e-01, 4.53322360e-01, 8.18202141e-01, 2.99406747e-01,\n",
       "        9.64185508e-01],\n",
       "       [8.28037483e-01, 2.03859550e-01, 5.28702312e-01, 2.16693660e-01,\n",
       "        1.50176029e-01],\n",
       "       [1.73482536e-01, 4.14741537e-01, 4.76773935e-01, 7.66564117e-01,\n",
       "        6.56087006e-01],\n",
       "       [3.99529228e-01, 7.63182352e-01, 6.67302943e-01, 9.01869585e-01,\n",
       "        9.23897839e-01],\n",
       "       [6.92488949e-01, 9.33308687e-01, 6.57382955e-01, 6.98089497e-01,\n",
       "        2.64733012e-01],\n",
       "       [8.30038472e-01, 4.91073174e-01, 6.48584228e-01, 2.49049513e-01,\n",
       "        6.80288660e-01],\n",
       "       [4.21527290e-01, 7.01527062e-01, 2.99830393e-01, 6.55821223e-01,\n",
       "        6.78612984e-01],\n",
       "       [9.83809067e-01, 2.29555785e-01, 1.18386976e-01, 6.18505332e-01,\n",
       "        3.72456190e-02],\n",
       "       [2.33246840e-01, 9.53133084e-01, 8.30767640e-01, 6.24722977e-01,\n",
       "        7.40076986e-01],\n",
       "       [2.82700594e-01, 5.77581845e-01, 4.99312734e-01, 6.82631657e-01,\n",
       "        8.79309528e-01],\n",
       "       [3.74997703e-01, 8.58866671e-01, 2.25705522e-01, 6.18820837e-01,\n",
       "        8.70644345e-01],\n",
       "       [3.72326083e-01, 5.75251228e-01, 6.73344525e-01, 9.49510390e-01,\n",
       "        4.58961000e-01],\n",
       "       [5.71503186e-02, 5.92688753e-02, 5.66453691e-01, 3.93721696e-01,\n",
       "        6.46970065e-01],\n",
       "       [9.77859690e-01, 2.91658248e-01, 5.08882199e-01, 2.13944346e-01,\n",
       "        2.49130651e-01],\n",
       "       [2.44260625e-01, 7.36349362e-01, 4.99839417e-01, 2.75783377e-02,\n",
       "        4.57237428e-01],\n",
       "       [6.46707494e-01, 8.50645397e-01, 6.54533924e-01, 1.65458370e-01,\n",
       "        4.96922120e-01],\n",
       "       [2.22866640e-01, 8.88822569e-01, 7.14183249e-01, 2.13218003e-01,\n",
       "        3.94569718e-01],\n",
       "       [3.71289338e-01, 1.02617648e-02, 3.96407836e-01, 6.79849071e-01,\n",
       "        1.42803503e-01],\n",
       "       [5.29251966e-01, 2.49970916e-01, 3.95504495e-01, 5.55880765e-01,\n",
       "        1.92791513e-01],\n",
       "       [9.68969016e-01, 8.61697911e-01, 9.28394707e-01, 9.66112150e-01,\n",
       "        6.09757885e-01],\n",
       "       [3.18100706e-01, 5.65754175e-01, 8.48085368e-01, 6.31612741e-01,\n",
       "        3.07596733e-01],\n",
       "       [8.90479774e-01, 6.43907669e-01, 5.13497687e-01, 8.65076434e-01,\n",
       "        1.04826299e-01],\n",
       "       [6.49829168e-01, 3.46602638e-01, 7.41711698e-01, 2.23720764e-02,\n",
       "        4.31603242e-01],\n",
       "       [8.56731657e-01, 2.07661463e-01, 7.03037535e-01, 5.75163386e-01,\n",
       "        4.19392101e-01],\n",
       "       [5.69296442e-02, 4.01948780e-01, 5.11200138e-01, 4.76134041e-01,\n",
       "        1.72060603e-01],\n",
       "       [1.21751927e-01, 3.78690611e-01, 9.94650024e-02, 5.19814685e-01,\n",
       "        2.12172644e-01],\n",
       "       [7.40827619e-01, 2.66591133e-01, 5.18154408e-01, 2.92254395e-01,\n",
       "        4.24440295e-01],\n",
       "       [2.20203515e-01, 1.83966448e-01, 7.96054623e-01, 3.05336702e-01,\n",
       "        6.48108616e-01],\n",
       "       [3.18746899e-01, 7.98121166e-01, 9.72832429e-01, 5.12626675e-01,\n",
       "        3.66009557e-01],\n",
       "       [2.33221055e-01, 2.42160899e-01, 4.01855725e-01, 7.45668167e-01,\n",
       "        1.60323050e-01],\n",
       "       [3.78936879e-01, 9.26033521e-01, 1.71505166e-01, 7.30388284e-01,\n",
       "        2.15914316e-01],\n",
       "       [5.66400848e-01, 1.70851323e-01, 2.85424377e-01, 3.54355893e-01,\n",
       "        6.70080552e-01],\n",
       "       [7.87174092e-01, 2.69161970e-01, 9.84342949e-01, 5.33286885e-01,\n",
       "        9.35645786e-01],\n",
       "       [1.08920566e-01, 5.50757660e-01, 9.51075317e-01, 9.08256694e-01,\n",
       "        1.83290851e-02],\n",
       "       [8.02241997e-01, 2.28075268e-01, 5.52502882e-01, 6.43474741e-01,\n",
       "        3.81733121e-01],\n",
       "       [7.16947096e-01, 8.36093780e-01, 7.69217695e-01, 2.86432821e-01,\n",
       "        6.82316333e-01],\n",
       "       [7.74884655e-02, 2.78248977e-01, 2.43036629e-03, 7.60058371e-01,\n",
       "        4.08222570e-01],\n",
       "       [6.61352006e-02, 8.21410288e-01, 1.58486518e-01, 9.72214768e-01,\n",
       "        4.64155266e-01],\n",
       "       [3.06876940e-01, 9.91756078e-03, 6.28904780e-01, 7.96471242e-01,\n",
       "        2.21956341e-02],\n",
       "       [7.68425651e-02, 2.64322378e-02, 7.54479982e-01, 8.49668015e-01,\n",
       "        5.82785063e-01],\n",
       "       [6.31840972e-01, 3.35410570e-01, 8.09770254e-01, 5.95961223e-01,\n",
       "        3.06143303e-01],\n",
       "       [7.48311905e-01, 2.30924198e-01, 7.90108780e-01, 1.70357284e-01,\n",
       "        2.30878791e-01],\n",
       "       [2.46638162e-02, 1.15163196e-01, 2.83965973e-01, 9.19803424e-01,\n",
       "        8.94025403e-01],\n",
       "       [8.09849560e-01, 4.36397761e-01, 1.05625442e-01, 6.09110576e-02,\n",
       "        9.62510857e-01],\n",
       "       [8.72427131e-02, 3.31082615e-01, 6.90801157e-01, 5.69229034e-01,\n",
       "        4.03014142e-01],\n",
       "       [7.32613992e-01, 3.55424583e-01, 9.46392256e-01, 2.38304942e-01,\n",
       "        6.42973111e-01],\n",
       "       [6.36811291e-01, 3.96687619e-01, 5.61254362e-01, 8.90448793e-01,\n",
       "        4.77216504e-01],\n",
       "       [5.79188945e-01, 5.11637568e-01, 9.59476725e-01, 1.27595587e-01,\n",
       "        7.61973603e-01],\n",
       "       [5.20285917e-01, 9.33982105e-01, 5.31363872e-01, 8.33733519e-01,\n",
       "        1.59152864e-01],\n",
       "       [3.13976613e-02, 5.93115563e-01, 6.90570540e-01, 7.50246300e-02,\n",
       "        3.48462111e-01],\n",
       "       [9.21284346e-01, 9.22740748e-01, 4.25460833e-01, 8.51136655e-01,\n",
       "        6.04679885e-01],\n",
       "       [5.93819708e-01, 8.70704780e-01, 4.86051916e-01, 4.24089728e-01,\n",
       "        6.71411866e-01],\n",
       "       [4.44507603e-01, 8.47702398e-01, 4.69804903e-01, 5.64683911e-01,\n",
       "        9.81159934e-01],\n",
       "       [2.07632334e-01, 5.26096384e-01, 8.17671933e-01, 6.37215447e-01,\n",
       "        1.14485268e-01],\n",
       "       [5.89065680e-02, 9.49907326e-01, 7.29728196e-01, 6.09491894e-01,\n",
       "        4.07953915e-01],\n",
       "       [1.90484757e-01, 3.78607831e-01, 2.36152229e-01, 9.11599371e-01,\n",
       "        3.22199265e-04],\n",
       "       [5.97049480e-01, 1.29632240e-01, 5.07248371e-01, 4.03459374e-01,\n",
       "        3.73636206e-01],\n",
       "       [9.84405809e-01, 5.45974110e-01, 9.21735572e-01, 8.29263853e-01,\n",
       "        7.02266711e-02],\n",
       "       [6.59640034e-01, 8.50101277e-01, 7.92551845e-01, 1.32825031e-01,\n",
       "        9.72222578e-01],\n",
       "       [5.15024583e-01, 9.41715766e-01, 1.75376268e-01, 1.21482430e-01,\n",
       "        1.25179987e-02],\n",
       "       [2.03990942e-01, 1.01304248e-01, 3.58412276e-01, 4.96226635e-01,\n",
       "        9.05798339e-01],\n",
       "       [6.22202555e-01, 4.51412873e-01, 7.53294221e-01, 8.80309807e-01,\n",
       "        4.24456110e-01],\n",
       "       [2.26295260e-01, 5.02357529e-01, 9.19795182e-02, 6.90680103e-01,\n",
       "        7.14251807e-01],\n",
       "       [3.20477308e-01, 7.44852485e-02, 5.88791992e-01, 2.82990555e-01,\n",
       "        7.90639503e-01],\n",
       "       [8.45452237e-01, 1.63352077e-01, 8.34392197e-01, 2.01746990e-01,\n",
       "        9.50504779e-01],\n",
       "       [9.79045445e-02, 7.23327897e-01, 5.11859736e-03, 8.38404045e-01,\n",
       "        9.93723940e-01],\n",
       "       [2.91175408e-01, 2.25703852e-01, 9.66229576e-01, 4.15069591e-01,\n",
       "        1.05479064e-01],\n",
       "       [9.07599756e-01, 2.73239176e-01, 2.52011990e-01, 9.93529006e-01,\n",
       "        1.10484250e-01],\n",
       "       [2.92802580e-01, 4.33245564e-01, 4.27617905e-01, 3.36281552e-01,\n",
       "        5.59029682e-01],\n",
       "       [6.23917375e-01, 9.26254905e-01, 1.37299149e-01, 2.64260824e-02,\n",
       "        5.87551933e-01],\n",
       "       [2.46673559e-01, 9.52295735e-01, 7.01564054e-01, 3.52312634e-01,\n",
       "        8.85228693e-01],\n",
       "       [4.54302052e-01, 1.81678001e-01, 7.21985360e-01, 4.55340272e-01,\n",
       "        2.49136325e-01],\n",
       "       [4.69709567e-01, 3.06241556e-01, 7.87331093e-01, 5.21746850e-01,\n",
       "        4.23602940e-01],\n",
       "       [4.30230745e-01, 4.34158570e-01, 4.31964441e-01, 8.21582392e-01,\n",
       "        8.58365185e-01],\n",
       "       [6.87150429e-01, 2.74150948e-01, 9.23156888e-01, 2.40921501e-01,\n",
       "        5.47293803e-01],\n",
       "       [4.76689596e-01, 5.35936676e-01, 9.76864052e-01, 9.08149442e-01,\n",
       "        5.34174835e-01],\n",
       "       [9.64356661e-01, 3.52569089e-02, 8.28772412e-01, 3.37149056e-01,\n",
       "        8.01397617e-01],\n",
       "       [5.91003630e-01, 4.31834131e-01, 5.52970715e-01, 7.74711856e-01,\n",
       "        1.82745179e-01],\n",
       "       [6.59296618e-01, 1.83582186e-01, 4.94430418e-03, 8.72057765e-01,\n",
       "        7.98106779e-01],\n",
       "       [5.00038683e-01, 4.36381021e-01, 3.74166103e-01, 6.94431661e-01,\n",
       "        1.48179255e-02]])"
      ]
     },
     "execution_count": 19,
     "metadata": {},
     "output_type": "execute_result"
    }
   ],
   "source": [
    "X = np.random.rand(100, 5)\n",
    "X"
   ]
  },
  {
   "cell_type": "code",
   "execution_count": null,
   "metadata": {},
   "outputs": [
    {
     "data": {
      "text/plain": [
       "array([3.13493841, 2.76799176, 2.75654109, 3.68182083, 2.23188558,\n",
       "       3.07817193, 2.3060636 , 2.14677302, 2.27148095, 2.92150764,\n",
       "       3.23390448, 1.62839033, 3.05001991, 3.25907826, 1.97305596,\n",
       "       2.94242094, 2.45730876, 4.29847046, 3.46288368, 3.47610558,\n",
       "       3.44846049, 1.92746903, 2.48764913, 3.65578195, 3.2460031 ,\n",
       "       2.89903405, 2.75731895, 1.98750278, 3.38194753, 2.92153636,\n",
       "       2.94903508, 3.02939323, 1.72356465, 2.24147514, 1.96526517,\n",
       "       2.81426731, 2.43366018, 1.60061151, 1.92339965, 4.33493167,\n",
       "       2.67114972, 3.01778786, 2.19211882, 2.76198614, 1.61827321,\n",
       "       1.33189487, 2.24226785, 2.1536699 , 2.96833673, 1.78322889,\n",
       "       2.42277817, 2.04711299, 3.50961168, 2.53733932, 2.60802801,\n",
       "       3.29100773, 1.52644875, 2.48240204, 1.76436616, 2.29020786,\n",
       "       2.67912632, 2.17058096, 2.23762181, 2.37529468, 2.08136966,\n",
       "       2.91570888, 2.96241857, 2.93987243, 2.97851828, 1.73857051,\n",
       "       3.72530247, 3.046078  , 3.30785875, 2.30310137, 2.7559879 ,\n",
       "       1.71716639, 2.01102567, 3.35160602, 3.40734076, 1.76611705,\n",
       "       2.06573244, 3.13167557, 2.22556422, 2.05738461, 2.99544828,\n",
       "       2.65847902, 2.00365749, 2.53686418, 2.04897728, 2.30144944,\n",
       "       3.13807467, 2.06244201, 2.50863201, 2.97630133, 2.67267357,\n",
       "       3.4318146 , 2.96693265, 2.53326551, 2.51798765, 2.01983539])"
      ]
     },
     "execution_count": 20,
     "metadata": {},
     "output_type": "execute_result"
    }
   ],
   "source": [
    "row_sum = np.sum(X, axis = 1)\n",
    "row_sum"
   ]
  },
  {
   "cell_type": "code",
   "execution_count": null,
   "metadata": {},
   "outputs": [],
   "source": [
    "X = np.random.rand(100, 5)\n",
    "exp_X = np.exp(X)\n",
    "row_sum = np.sum(exp_X, axis = 1, keepdims = True)\n",
    "probs = exp_X /  row_sum"
   ]
  },
  {
   "cell_type": "code",
   "execution_count": 54,
   "metadata": {},
   "outputs": [
    {
     "name": "stdout",
     "output_type": "stream",
     "text": [
      "[0.27253049 0.12912226 0.19580178 0.18003341 0.22251206]\n"
     ]
    }
   ],
   "source": [
    "print(probs[0])"
   ]
  },
  {
   "cell_type": "code",
   "execution_count": null,
   "metadata": {},
   "outputs": [],
   "source": []
  },
  {
   "cell_type": "code",
   "execution_count": null,
   "metadata": {},
   "outputs": [],
   "source": []
  }
 ],
 "metadata": {
  "kernelspec": {
   "display_name": "Python 3",
   "language": "python",
   "name": "python3"
  },
  "language_info": {
   "codemirror_mode": {
    "name": "ipython",
    "version": 3
   },
   "file_extension": ".py",
   "mimetype": "text/x-python",
   "name": "python",
   "nbconvert_exporter": "python",
   "pygments_lexer": "ipython3",
   "version": "3.10.11"
  }
 },
 "nbformat": 4,
 "nbformat_minor": 2
}
