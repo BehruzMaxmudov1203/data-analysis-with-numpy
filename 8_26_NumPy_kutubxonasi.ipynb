{
  "cells": [
    {
      "cell_type": "markdown",
      "id": "bf79c78b",
      "metadata": {
        "id": "bf79c78b"
      },
      "source": [
        "\n",
        "\n",
        "# 8.26. NumPy kutubxonasi boʻyicha amaliy vazifa\n",
        "\n",
        "Topshiriqni aynan qanday funksiyalar yordamida bajarish mumkinligi `💡Ishora` koʻrinishida berilgan."
      ]
    },
    {
      "cell_type": "markdown",
      "id": "017db353",
      "metadata": {
        "id": "017db353"
      },
      "source": [
        "#### 1. NumPy kutubxonasini `np` nomi ostida yuklang va uni chop eting.\n",
        "\n",
        "Versiya va konfiguratsiyani tekshiring.\n"
      ]
    },
    {
      "cell_type": "markdown",
      "id": "e28779fe",
      "metadata": {
        "id": "e28779fe"
      },
      "source": [
        "`💡Ishora` import … as` and `np.__version__, np.show_config"
      ]
    },
    {
      "cell_type": "code",
      "execution_count": 1,
      "id": "_pCbn1ieI3u9",
      "metadata": {
        "id": "_pCbn1ieI3u9"
      },
      "outputs": [],
      "source": [
        "import numpy as np"
      ]
    },
    {
      "cell_type": "markdown",
      "id": "46950f4f",
      "metadata": {
        "id": "46950f4f"
      },
      "source": [
        "#### 2. Raqamli qiymatlar roʻyxatini bir oʻlchovli NumPy massiviga aylantiring."
      ]
    },
    {
      "cell_type": "markdown",
      "id": "9b0e875f",
      "metadata": {
        "id": "9b0e875f"
      },
      "source": [
        "`💡Ishora` numpy.array"
      ]
    },
    {
      "cell_type": "code",
      "execution_count": 5,
      "id": "dgnzjeT3JCi4",
      "metadata": {
        "id": "dgnzjeT3JCi4"
      },
      "outputs": [],
      "source": [
        "numbers = np.array([10,20,30,40,50])"
      ]
    },
    {
      "cell_type": "markdown",
      "id": "e3c20b3d",
      "metadata": {
        "id": "e3c20b3d"
      },
      "source": [
        "#### 3. Qiymatlari noldan iborat boʻlgan toʻqqiz elementdan iborat massiv yarating.\n",
        "\n",
        "\n",
        "---\n",
        "\n",
        "\n"
      ]
    },
    {
      "cell_type": "markdown",
      "id": "96d0b63e",
      "metadata": {
        "id": "96d0b63e"
      },
      "source": [
        "`💡Ishora` np.zeros"
      ]
    },
    {
      "cell_type": "code",
      "execution_count": 8,
      "id": "d57fe734",
      "metadata": {},
      "outputs": [
        {
          "data": {
            "text/plain": [
              "array([0., 0., 0., 0., 0., 0., 0., 0., 0.])"
            ]
          },
          "execution_count": 8,
          "metadata": {},
          "output_type": "execute_result"
        }
      ],
      "source": [
        "arr = np.zeros(9)\n",
        "arr"
      ]
    },
    {
      "cell_type": "markdown",
      "id": "b15a879f",
      "metadata": {
        "id": "b15a879f"
      },
      "source": [
        "#### 4. Massiv yarating va uning xotira hajmini toping.\n",
        "\n"
      ]
    },
    {
      "cell_type": "markdown",
      "id": "32f9025c",
      "metadata": {
        "id": "32f9025c"
      },
      "source": [
        "`💡Ishora` size, itemsize"
      ]
    },
    {
      "cell_type": "code",
      "execution_count": 10,
      "id": "MZxcJM_oJOTs",
      "metadata": {
        "id": "MZxcJM_oJOTs"
      },
      "outputs": [
        {
          "name": "stdout",
          "output_type": "stream",
          "text": [
            "5\n",
            "8\n"
          ]
        }
      ],
      "source": [
        "numbers = np.array([10,20,30,40,50])\n",
        "print(numbers.size)\n",
        "print(numbers.itemsize)"
      ]
    },
    {
      "cell_type": "markdown",
      "id": "0a708990",
      "metadata": {
        "id": "0a708990"
      },
      "source": [
        "#### 5. NumPy kutubxonasidagi `add` funksiyasi hujjatlarini buyruq satridan qanday olishi mumkin?\n"
      ]
    },
    {
      "cell_type": "markdown",
      "id": "d254eea5",
      "metadata": {
        "id": "d254eea5"
      },
      "source": [
        "`💡Ishora` np.info"
      ]
    },
    {
      "cell_type": "code",
      "execution_count": 11,
      "id": "m7nA_vYsJVUi",
      "metadata": {
        "id": "m7nA_vYsJVUi"
      },
      "outputs": [
        {
          "name": "stdout",
          "output_type": "stream",
          "text": [
            "add(x1, x2, /, out=None, *, where=True, casting='same_kind', order='K', dtype=None, subok=True[, signature])\n",
            "\n",
            "Add arguments element-wise.\n",
            "\n",
            "Parameters\n",
            "----------\n",
            "x1, x2 : array_like\n",
            "    The arrays to be added.\n",
            "    If ``x1.shape != x2.shape``, they must be broadcastable to a common\n",
            "    shape (which becomes the shape of the output).\n",
            "out : ndarray, None, or tuple of ndarray and None, optional\n",
            "    A location into which the result is stored. If provided, it must have\n",
            "    a shape that the inputs broadcast to. If not provided or None,\n",
            "    a freshly-allocated array is returned. A tuple (possible only as a\n",
            "    keyword argument) must have length equal to the number of outputs.\n",
            "where : array_like, optional\n",
            "    This condition is broadcast over the input. At locations where the\n",
            "    condition is True, the `out` array will be set to the ufunc result.\n",
            "    Elsewhere, the `out` array will retain its original value.\n",
            "    Note that if an uninitialized `out` array is created via the default\n",
            "    ``out=None``, locations within it where the condition is False will\n",
            "    remain uninitialized.\n",
            "**kwargs\n",
            "    For other keyword-only arguments, see the\n",
            "    :ref:`ufunc docs <ufuncs.kwargs>`.\n",
            "\n",
            "Returns\n",
            "-------\n",
            "add : ndarray or scalar\n",
            "    The sum of `x1` and `x2`, element-wise.\n",
            "    This is a scalar if both `x1` and `x2` are scalars.\n",
            "\n",
            "Notes\n",
            "-----\n",
            "Equivalent to `x1` + `x2` in terms of array broadcasting.\n",
            "\n",
            "Examples\n",
            "--------\n",
            ">>> import numpy as np\n",
            ">>> np.add(1.0, 4.0)\n",
            "5.0\n",
            ">>> x1 = np.arange(9.0).reshape((3, 3))\n",
            ">>> x2 = np.arange(3.0)\n",
            ">>> np.add(x1, x2)\n",
            "array([[  0.,   2.,   4.],\n",
            "       [  3.,   5.,   7.],\n",
            "       [  6.,   8.,  10.]])\n",
            "\n",
            "The ``+`` operator can be used as a shorthand for ``np.add`` on ndarrays.\n",
            "\n",
            ">>> x1 = np.arange(9.0).reshape((3, 3))\n",
            ">>> x2 = np.arange(3.0)\n",
            ">>> x1 + x2\n",
            "array([[ 0.,  2.,  4.],\n",
            "       [ 3.,  5.,  7.],\n",
            "       [ 6.,  8., 10.]])\n"
          ]
        }
      ],
      "source": [
        "np.info(np.add)"
      ]
    },
    {
      "cell_type": "markdown",
      "id": "0b16cd77",
      "metadata": {
        "id": "0b16cd77"
      },
      "source": [
        "#### 6. Shunday vekor yaratingki u oʻn ikki oʻlchamda va qiymatlari noldan iborat boʻlsin, lekin vektorning oltinchi qiymati 1 ga teng boʻlsin.\n",
        "\n"
      ]
    },
    {
      "cell_type": "markdown",
      "id": "05223560",
      "metadata": {
        "id": "05223560"
      },
      "source": [
        "`💡Ishora` array[12]"
      ]
    },
    {
      "cell_type": "code",
      "execution_count": 16,
      "id": "UJfYDNQoJc7M",
      "metadata": {
        "id": "UJfYDNQoJc7M"
      },
      "outputs": [
        {
          "data": {
            "text/plain": [
              "array([0., 0., 0., 0., 0., 0., 0., 0., 0., 0., 0., 0.])"
            ]
          },
          "execution_count": 16,
          "metadata": {},
          "output_type": "execute_result"
        }
      ],
      "source": [
        "arr1 = np.zeros(12)\n",
        "arr1"
      ]
    },
    {
      "cell_type": "code",
      "execution_count": 18,
      "id": "c7463c3c",
      "metadata": {},
      "outputs": [
        {
          "data": {
            "text/plain": [
              "array([0., 0., 0., 0., 0., 1., 0., 0., 0., 0., 0., 0.])"
            ]
          },
          "execution_count": 18,
          "metadata": {},
          "output_type": "execute_result"
        }
      ],
      "source": [
        "arr1[5] = 1\n",
        "arr1"
      ]
    },
    {
      "cell_type": "markdown",
      "id": "782d4c77",
      "metadata": {
        "id": "782d4c77"
      },
      "source": [
        "#### 7. Qiymatlari 20 dan 59 gacha boʻlgan vektor yarating.\n",
        "\n"
      ]
    },
    {
      "cell_type": "markdown",
      "id": "7250d114",
      "metadata": {
        "id": "7250d114"
      },
      "source": [
        "`💡Ishora` arange"
      ]
    },
    {
      "cell_type": "code",
      "execution_count": 20,
      "id": "fSaWkGakJhwz",
      "metadata": {
        "id": "fSaWkGakJhwz"
      },
      "outputs": [
        {
          "data": {
            "text/plain": [
              "array([20, 21, 22, 23, 24, 25, 26, 27, 28, 29, 30, 31, 32, 33, 34, 35, 36,\n",
              "       37, 38, 39, 40, 41, 42, 43, 44, 45, 46, 47, 48, 49, 50, 51, 52, 53,\n",
              "       54, 55, 56, 57, 58, 59])"
            ]
          },
          "execution_count": 20,
          "metadata": {},
          "output_type": "execute_result"
        }
      ],
      "source": [
        "arr2 = np.arange(20,60)\n",
        "arr2"
      ]
    },
    {
      "cell_type": "markdown",
      "id": "48d48f01",
      "metadata": {
        "id": "48d48f01"
      },
      "source": [
        "#### 8. Vektor yarating va uni teskari oʻzgartiring, (birinchi element oxirgisi boʻlsin)\n",
        "\n"
      ]
    },
    {
      "cell_type": "markdown",
      "id": "fb702ae0",
      "metadata": {
        "id": "fb702ae0"
      },
      "source": [
        "`💡Ishora` array[::-1]"
      ]
    },
    {
      "cell_type": "code",
      "execution_count": 23,
      "id": "GCP6vp_WJrON",
      "metadata": {
        "id": "GCP6vp_WJrON"
      },
      "outputs": [
        {
          "data": {
            "text/plain": [
              "array([9, 8, 7, 6, 5, 4, 3, 2, 1, 0])"
            ]
          },
          "execution_count": 23,
          "metadata": {},
          "output_type": "execute_result"
        }
      ],
      "source": [
        "arr3 = np.arange(10)\n",
        "arr3[::-1]"
      ]
    },
    {
      "cell_type": "markdown",
      "id": "4fa39382",
      "metadata": {
        "id": "4fa39382"
      },
      "source": [
        "#### 9. 12 dan 20 gacha boʻlgan qiymatlarga ega 3x3 matritsa yarating.\n"
      ]
    },
    {
      "cell_type": "markdown",
      "id": "97e6be92",
      "metadata": {
        "id": "97e6be92"
      },
      "source": [
        "`💡Ishora` reshape"
      ]
    },
    {
      "cell_type": "code",
      "execution_count": 26,
      "id": "Ve7gEGjuJxxw",
      "metadata": {
        "id": "Ve7gEGjuJxxw"
      },
      "outputs": [
        {
          "data": {
            "text/plain": [
              "array([[12, 13, 14],\n",
              "       [15, 16, 17],\n",
              "       [18, 19, 20]])"
            ]
          },
          "execution_count": 26,
          "metadata": {},
          "output_type": "execute_result"
        }
      ],
      "source": [
        "arr4 = np.arange(12,21).reshape(3,3)\n",
        "arr4"
      ]
    },
    {
      "cell_type": "markdown",
      "id": "da64551a",
      "metadata": {
        "id": "da64551a"
      },
      "source": [
        "#### 10. Quyidagi matritsadan foydalanib nolga teng boʻlmagan elementlarning indekslarini toping.\n",
        "[3, 7, 0, 0, 9, 0]\n",
        "\n",
        "\n",
        "\n"
      ]
    },
    {
      "cell_type": "markdown",
      "id": "322b2b68",
      "metadata": {
        "id": "322b2b68"
      },
      "source": [
        "`💡Ishora` np.nonzero"
      ]
    },
    {
      "cell_type": "code",
      "execution_count": 27,
      "id": "fNIuSyBaJ4OP",
      "metadata": {
        "id": "fNIuSyBaJ4OP"
      },
      "outputs": [
        {
          "data": {
            "text/plain": [
              "(array([0, 1, 4]),)"
            ]
          },
          "execution_count": 27,
          "metadata": {},
          "output_type": "execute_result"
        }
      ],
      "source": [
        "arr5 = np.array([3,7,0,0,9,0])\n",
        "np.nonzero(arr5)"
      ]
    },
    {
      "cell_type": "markdown",
      "id": "f89d9c9e",
      "metadata": {
        "id": "f89d9c9e"
      },
      "source": [
        "#### 11. Tasodifiy qiymatlar bilan 2x2x2 oʻlchovidagi massiv yarating.\n"
      ]
    },
    {
      "cell_type": "markdown",
      "id": "5717e1c1",
      "metadata": {
        "id": "5717e1c1"
      },
      "source": [
        "`💡Ishora` np.random.random"
      ]
    },
    {
      "cell_type": "code",
      "execution_count": 29,
      "id": "bHloeqHOKuiX",
      "metadata": {
        "id": "bHloeqHOKuiX"
      },
      "outputs": [
        {
          "data": {
            "text/plain": [
              "array([[[0.56032492, 0.8217099 ],\n",
              "        [0.9442577 , 0.61112655]],\n",
              "\n",
              "       [[0.50383904, 0.28391831],\n",
              "        [0.61259442, 0.40948014]]])"
            ]
          },
          "execution_count": 29,
          "metadata": {},
          "output_type": "execute_result"
        }
      ],
      "source": [
        "arr6 = np.random.rand(2,2,2)\n",
        "arr6"
      ]
    },
    {
      "cell_type": "markdown",
      "id": "13c5928c",
      "metadata": {
        "id": "13c5928c"
      },
      "source": [
        "#### 12. Tasodifiy sonlardan tashkil topgan 9X9 oʻlchamidagi massiv yarating. Soʻng uning eng katta va eng kichik qiymatlarini toping.\n"
      ]
    },
    {
      "cell_type": "markdown",
      "id": "0ede4d26",
      "metadata": {
        "id": "0ede4d26"
      },
      "source": [
        "`💡Ishora` min, max"
      ]
    },
    {
      "cell_type": "code",
      "execution_count": 31,
      "id": "OJiVa5K9LJyb",
      "metadata": {
        "id": "OJiVa5K9LJyb"
      },
      "outputs": [
        {
          "name": "stdout",
          "output_type": "stream",
          "text": [
            "max  0.9938304270614438\n",
            "min 0.02207597807436279\n"
          ]
        }
      ],
      "source": [
        "arr7 = np.random.rand(9,9)\n",
        "print(\"max \",np.max(arr7))\n",
        "print(\"min\",np.min(arr7))"
      ]
    },
    {
      "cell_type": "markdown",
      "id": "3fa2e461",
      "metadata": {
        "id": "3fa2e461"
      },
      "source": [
        "#### 13. Quyidagi misol qanday natija beradi?\n",
        "\n",
        "\n",
        "```python\n",
        "0 * np.nan\n",
        "np.nan == np.nan\n",
        "np.inf > np.nan\n",
        "np.nan - np.nan\n",
        "np.nan in set([np.nan])\n",
        "0.7 == 7 * 0.1\n",
        "```\n"
      ]
    },
    {
      "cell_type": "markdown",
      "id": "c0048e59",
      "metadata": {
        "id": "c0048e59"
      },
      "source": [
        "`💡Ishora` NaN = not a number, inf = infinity"
      ]
    },
    {
      "cell_type": "code",
      "execution_count": 32,
      "id": "Thbqd_RCLf_e",
      "metadata": {
        "id": "Thbqd_RCLf_e"
      },
      "outputs": [
        {
          "data": {
            "text/plain": [
              "False"
            ]
          },
          "execution_count": 32,
          "metadata": {},
          "output_type": "execute_result"
        }
      ],
      "source": [
        "0 * np.nan\n",
        "np.nan == np.nan\n",
        "np.inf > np.nan\n",
        "np.nan - np.nan\n",
        "np.nan in set([np.nan])\n",
        "0.7 == 7 * 0.1\n"
      ]
    },
    {
      "cell_type": "markdown",
      "id": "73f7a549",
      "metadata": {
        "id": "73f7a549"
      },
      "source": [
        "#### 14. Oʻlchamlari 6x3 va 3x4 boʻlgan martitsa yarating, soʻng ularning  koʻpaytmasini hisoblang.\n",
        "\n"
      ]
    },
    {
      "cell_type": "markdown",
      "id": "351ff928",
      "metadata": {
        "id": "351ff928"
      },
      "source": [
        "`💡Ishora` np.dot` or `np.ones\n"
      ]
    },
    {
      "cell_type": "code",
      "execution_count": 38,
      "id": "e_5QUFcPLtVX",
      "metadata": {
        "id": "e_5QUFcPLtVX"
      },
      "outputs": [
        {
          "name": "stdout",
          "output_type": "stream",
          "text": [
            "arr8  [[1. 1. 1.]\n",
            " [1. 1. 1.]\n",
            " [1. 1. 1.]\n",
            " [1. 1. 1.]\n",
            " [1. 1. 1.]\n",
            " [1. 1. 1.]]\n",
            "___________________________\n",
            "arr9  [[1. 1. 1. 1.]\n",
            " [1. 1. 1. 1.]\n",
            " [1. 1. 1. 1.]]\n"
          ]
        }
      ],
      "source": [
        "arr8 = np.ones(shape=(6,3))\n",
        "arr9 = np.ones(shape=(3,4))\n",
        "print(\"arr8 \", arr8)\n",
        "print(\"___________________________\")\n",
        "print(\"arr9 \", arr9)"
      ]
    },
    {
      "cell_type": "code",
      "execution_count": 43,
      "id": "07ae6caf",
      "metadata": {},
      "outputs": [
        {
          "name": "stdout",
          "output_type": "stream",
          "text": [
            "[[3. 3. 3. 3.]\n",
            " [3. 3. 3. 3.]\n",
            " [3. 3. 3. 3.]\n",
            " [3. 3. 3. 3.]\n",
            " [3. 3. 3. 3.]\n",
            " [3. 3. 3. 3.]]\n"
          ]
        }
      ],
      "source": [
        "print(np.dot(arr8,arr9))"
      ]
    },
    {
      "cell_type": "markdown",
      "id": "6d0c506f",
      "metadata": {
        "id": "6d0c506f"
      },
      "source": [
        "#### 15. Quyidagi misol qanday natija beradi?\n",
        "\n",
        "```python\n",
        "print(sum(range(5),-1))\n",
        "from numpy import *\n",
        "print(sum(range(5),-1))\n",
        "```"
      ]
    },
    {
      "cell_type": "code",
      "execution_count": null,
      "id": "c1cc1143",
      "metadata": {
        "id": "c1cc1143"
      },
      "outputs": [
        {
          "data": {
            "text/plain": [
              "np.int64(10)"
            ]
          },
          "execution_count": 40,
          "metadata": {},
          "output_type": "execute_result"
        }
      ],
      "source": [
        "sum(range(5), -1)\n"
      ]
    },
    {
      "cell_type": "markdown",
      "id": "d6ad1a9f",
      "metadata": {
        "id": "d6ad1a9f"
      },
      "source": [
        "#### 16. NumPy kutubxonasi yordamida ikkita massivni solishtiring va ular usida quyidagi amallarni bajaring.\n",
        "\n",
        "```python\n",
        "Array a: [1 2]\n",
        "Array b: [4 5]\n",
        "a > b\n",
        "[False False]\n",
        "a >= b\n",
        "[False False]\n",
        "a < b\n",
        "[ True True]\n",
        "a <= b\n",
        "[ True True]\n",
        "```"
      ]
    },
    {
      "cell_type": "code",
      "execution_count": 41,
      "id": "7ba3c441",
      "metadata": {
        "id": "7ba3c441"
      },
      "outputs": [
        {
          "data": {
            "text/plain": [
              "np.int64(10)"
            ]
          },
          "execution_count": 41,
          "metadata": {},
          "output_type": "execute_result"
        }
      ],
      "source": [
        "from numpy import *\n",
        "sum(range(5), -1)\n"
      ]
    },
    {
      "cell_type": "markdown",
      "id": "e3a7ba7f",
      "metadata": {
        "id": "e3a7ba7f"
      },
      "source": [
        "#### 17. Quyidagi misol qanday natija beradi?\n",
        "\n",
        "```python\n",
        "np.array(0) / np.array(0)\n",
        "np.array(0) // np.array(0)\n",
        "np.array([np.nan]).astype(int).astype(float)\n",
        "```"
      ]
    },
    {
      "cell_type": "code",
      "execution_count": 42,
      "id": "b874734e",
      "metadata": {
        "id": "b874734e"
      },
      "outputs": [],
      "source": [
        "# nan\n",
        "# 0\n",
        "# array([-9.22337204e+18])"
      ]
    },
    {
      "cell_type": "markdown",
      "id": "6d17ab5d",
      "metadata": {
        "id": "6d17ab5d"
      },
      "source": [
        "#### 18. Ikkita massiv yarating va ular orasidagi umumiy qiymatlarni toping.\n"
      ]
    },
    {
      "cell_type": "markdown",
      "id": "obItFDDTvKFI",
      "metadata": {
        "id": "obItFDDTvKFI"
      },
      "source": []
    },
    {
      "cell_type": "markdown",
      "id": "4c4e2c5e",
      "metadata": {
        "id": "4c4e2c5e"
      },
      "source": [
        "`💡Ishora` np.intersect1d"
      ]
    },
    {
      "cell_type": "code",
      "execution_count": 44,
      "id": "Dxz5P8WpMeAP",
      "metadata": {
        "id": "Dxz5P8WpMeAP"
      },
      "outputs": [
        {
          "name": "stdout",
          "output_type": "stream",
          "text": [
            "[3. 4. 5.]\n"
          ]
        }
      ],
      "source": [
        "a = np.array([1,3,4,5,6.8])\n",
        "b = np.array([3,5,6,4])\n",
        "print(np.intersect1d(a,b))"
      ]
    },
    {
      "cell_type": "markdown",
      "id": "8837119b",
      "metadata": {
        "id": "8837119b"
      },
      "source": [
        "#### 19. Tasodifiy sonlardan iborat boʻlgan massiv yarating, soʻng ularni quyida berilgan 4 xil usul yordamida musbat sonlarning butun qismini ajratib oling."
      ]
    },
    {
      "cell_type": "markdown",
      "id": "2b05c544",
      "metadata": {
        "id": "2b05c544"
      },
      "source": [
        "`💡Ishora` %, np.floor, astype, np.trunc"
      ]
    },
    {
      "cell_type": "code",
      "execution_count": 50,
      "id": "jc6wN5WWMpS3",
      "metadata": {
        "id": "jc6wN5WWMpS3"
      },
      "outputs": [
        {
          "name": "stdout",
          "output_type": "stream",
          "text": [
            "Asl massiv:\n",
            " [6.51637702 2.62285782 3.50206014 3.74260555 4.04060456 2.40291815\n",
            " 4.0608851  7.40382388 9.47364967 7.01133917]\n",
            "\n",
            "1-usul (floor): [6. 2. 3. 3. 4. 2. 4. 7. 9. 7.]\n",
            "2-usul (trunc): [6. 2. 3. 3. 4. 2. 4. 7. 9. 7.]\n",
            "3-usul (astype): [6 2 3 3 4 2 4 7 9 7]\n",
            "4-usul (fix): [6. 2. 3. 3. 4. 2. 4. 7. 9. 7.]\n"
          ]
        }
      ],
      "source": [
        "import numpy as np\n",
        "\n",
        "a = np.random.random(10) * 10  # 0 dan 10 gacha 10 ta son\n",
        "print(\"Asl massiv:\\n\", a)\n",
        "\n",
        "\n",
        "b1 = np.floor(a)\n",
        "\n",
        "b2 = np.trunc(a)\n",
        "\n",
        "b3 = a.astype(int)\n",
        "\n",
        "b4 = np.fix(a)\n",
        "\n",
        "print(\"\\n1-usul (floor):\", b1)\n",
        "print(\"2-usul (trunc):\", b2)\n",
        "print(\"3-usul (astype):\", b3)\n",
        "print(\"4-usul (fix):\", b4)\n"
      ]
    },
    {
      "cell_type": "markdown",
      "id": "ec788c9f",
      "metadata": {
        "id": "ec788c9f"
      },
      "source": [
        "#### 20. Oʻlchovlari 3x3 matritsa yarating, ularning qator qiymatlari 0 dan 2 gacha boʻlsin.\n",
        "\n"
      ]
    },
    {
      "cell_type": "markdown",
      "id": "c3980b2c",
      "metadata": {
        "id": "c3980b2c"
      },
      "source": [
        "`💡Ishora` np.arange"
      ]
    },
    {
      "cell_type": "code",
      "execution_count": 2,
      "id": "ycz3jw4bM0Xk",
      "metadata": {
        "id": "ycz3jw4bM0Xk"
      },
      "outputs": [
        {
          "name": "stdout",
          "output_type": "stream",
          "text": [
            "[[0 1 2]\n",
            " [0 1 2]\n",
            " [0 1 2]]\n"
          ]
        }
      ],
      "source": [
        "a = np.arange(3) # 0,1,2\n",
        "a = np.tile(a,(3,1))\n",
        "print(a)"
      ]
    },
    {
      "cell_type": "code",
      "execution_count": 5,
      "id": "c65bce90",
      "metadata": {},
      "outputs": [
        {
          "name": "stdout",
          "output_type": "stream",
          "text": [
            "[[0 1 2]\n",
            " [0 1 2]\n",
            " [0 1 2]]\n"
          ]
        }
      ],
      "source": [
        "a = np.arange(9).reshape(3,3)\n",
        "a = a % 3\n",
        "print(a)"
      ]
    },
    {
      "cell_type": "markdown",
      "id": "391791e0",
      "metadata": {
        "id": "391791e0"
      },
      "source": [
        "#### 21. Oʻchamlari 10 boʻlgan tasodifiy vektor yarating va uni oʻsish tartibida chiqaruvchi dastur tuzing.\n",
        "\n"
      ]
    },
    {
      "cell_type": "markdown",
      "id": "ada71c06",
      "metadata": {
        "id": "ada71c06"
      },
      "source": [
        "`💡Ishora` sort"
      ]
    },
    {
      "cell_type": "code",
      "execution_count": 8,
      "id": "TPMqaavROM7g",
      "metadata": {
        "id": "TPMqaavROM7g"
      },
      "outputs": [
        {
          "name": "stdout",
          "output_type": "stream",
          "text": [
            "[0.07000175 0.24368121 0.27039871 0.41352754 0.5080522  0.72559704\n",
            " 0.77311207 0.87541917 0.95698289 0.98136085]\n"
          ]
        }
      ],
      "source": [
        "a = np.random.rand(10)\n",
        "print(np.sort(a))"
      ]
    },
    {
      "cell_type": "markdown",
      "id": "1e74d39e",
      "metadata": {
        "id": "1e74d39e"
      },
      "source": [
        "#### 22. Ikki tasodifiy A va B massiv yarating, ularning tengligini tekshiring."
      ]
    },
    {
      "cell_type": "markdown",
      "id": "eb0e066c",
      "metadata": {
        "id": "eb0e066c"
      },
      "source": [
        "`💡Ishora` np.allclose, np.array_equal"
      ]
    },
    {
      "cell_type": "code",
      "execution_count": 14,
      "id": "xHNWNZnwOT1r",
      "metadata": {
        "id": "xHNWNZnwOT1r"
      },
      "outputs": [
        {
          "name": "stdout",
          "output_type": "stream",
          "text": [
            "A =  [[0.55333085 0.88503648 0.17259634]\n",
            " [0.37802157 0.95905807 0.73077464]\n",
            " [0.70237327 0.38197868 0.6604122 ]]\n",
            "B =  [[0.77444785 0.58041386 0.346537  ]\n",
            " [0.49918607 0.93928462 0.40517594]\n",
            " [0.33200833 0.61543024 0.28628853]]\n"
          ]
        }
      ],
      "source": [
        "A = np.random.random((3,3))\n",
        "B = np.random.random((3,3))\n",
        "\n",
        "print(\"A = \", A)\n",
        "print(\"B = \", B)"
      ]
    },
    {
      "cell_type": "code",
      "execution_count": 16,
      "id": "ef100bc3",
      "metadata": {},
      "outputs": [
        {
          "name": "stdout",
          "output_type": "stream",
          "text": [
            "False\n",
            "False\n"
          ]
        }
      ],
      "source": [
        "print(np.array_equal(A,B))\n",
        "print(np.allclose(A,B))"
      ]
    },
    {
      "cell_type": "markdown",
      "id": "78250c14",
      "metadata": {
        "id": "78250c14"
      },
      "source": [
        "#### 23. Oʻlchamlari 6x3 va 3x4 matritsa tuzing va ularni oʻzaro koʻpaytiring.\n"
      ]
    },
    {
      "cell_type": "markdown",
      "id": "2e482afe",
      "metadata": {
        "id": "2e482afe"
      },
      "source": [
        "`💡Ishora` np.dot or np.ones"
      ]
    },
    {
      "cell_type": "code",
      "execution_count": 19,
      "id": "ZRlMgdT9POgS",
      "metadata": {
        "id": "ZRlMgdT9POgS"
      },
      "outputs": [
        {
          "name": "stdout",
          "output_type": "stream",
          "text": [
            "a  [[1. 1. 1.]\n",
            " [1. 1. 1.]\n",
            " [1. 1. 1.]\n",
            " [1. 1. 1.]\n",
            " [1. 1. 1.]\n",
            " [1. 1. 1.]]\n",
            "____________________\n",
            "b  [[1. 1. 1. 1.]\n",
            " [1. 1. 1. 1.]\n",
            " [1. 1. 1. 1.]]\n"
          ]
        }
      ],
      "source": [
        "a = np.ones(shape = (6, 3))\n",
        "b = np.ones(shape = (3, 4))\n",
        "print(\"a \",a)\n",
        "print(\"____________________\")\n",
        "print(\"b \",b)"
      ]
    },
    {
      "cell_type": "code",
      "execution_count": 22,
      "id": "936d5c52",
      "metadata": {},
      "outputs": [
        {
          "data": {
            "text/plain": [
              "array([[3., 3., 3., 3.],\n",
              "       [3., 3., 3., 3.],\n",
              "       [3., 3., 3., 3.],\n",
              "       [3., 3., 3., 3.],\n",
              "       [3., 3., 3., 3.],\n",
              "       [3., 3., 3., 3.]])"
            ]
          },
          "execution_count": 22,
          "metadata": {},
          "output_type": "execute_result"
        }
      ],
      "source": [
        "result = np.dot(a,b)\n",
        "result"
      ]
    },
    {
      "cell_type": "markdown",
      "id": "51898680",
      "metadata": {
        "id": "51898680"
      },
      "source": [
        "#### 24. Tasodifiy sonlardan iborat boʻlgan oʻlchami 5 ga teng vektor yarating, soʻng uning eng katta qiymatini 0 ga oʻzgartiring.\n"
      ]
    },
    {
      "cell_type": "markdown",
      "id": "ee92ccaf",
      "metadata": {
        "id": "ee92ccaf"
      },
      "source": [
        "`💡Ishora` argmax"
      ]
    },
    {
      "cell_type": "code",
      "execution_count": 32,
      "id": "v9DvyaTNPk_t",
      "metadata": {
        "id": "v9DvyaTNPk_t"
      },
      "outputs": [
        {
          "data": {
            "text/plain": [
              "np.int64(0)"
            ]
          },
          "execution_count": 32,
          "metadata": {},
          "output_type": "execute_result"
        }
      ],
      "source": [
        "arr = np.random.rand(5)\n",
        "w = np.argmax(arr)\n",
        "w"
      ]
    },
    {
      "cell_type": "code",
      "execution_count": 35,
      "id": "68e42d30",
      "metadata": {},
      "outputs": [
        {
          "data": {
            "text/plain": [
              "array([0.        , 0.86203942, 0.65805943, 0.26345204, 0.06939938])"
            ]
          },
          "execution_count": 35,
          "metadata": {},
          "output_type": "execute_result"
        }
      ],
      "source": [
        "arr[w] = 0\n",
        "arr"
      ]
    },
    {
      "cell_type": "markdown",
      "id": "129c342d",
      "metadata": {
        "id": "129c342d"
      },
      "source": [
        "#### 25. NumPy kutubxonasi yordamida kecha, bugun va ertangi kun sanalarini aniqlang.\n"
      ]
    },
    {
      "cell_type": "markdown",
      "id": "0fd2f947",
      "metadata": {
        "id": "0fd2f947"
      },
      "source": [
        "`💡Ishora` np.datetime64, np.timedelta64"
      ]
    },
    {
      "cell_type": "code",
      "execution_count": 36,
      "id": "dlljRGxkSitd",
      "metadata": {
        "id": "dlljRGxkSitd"
      },
      "outputs": [
        {
          "name": "stdout",
          "output_type": "stream",
          "text": [
            "2025-10-24\n",
            "2025-10-23\n",
            "2025-10-25\n"
          ]
        }
      ],
      "source": [
        "bugun = np.datetime64('today','D')\n",
        "kecha = bugun - np.timedelta64(1,'D')\n",
        "erta = bugun + np.timedelta64(1,'D')\n",
        "\n",
        "print(bugun)\n",
        "print(kecha)\n",
        "print(erta)"
      ]
    },
    {
      "cell_type": "markdown",
      "id": "42f8b2f9",
      "metadata": {
        "id": "42f8b2f9"
      },
      "source": [
        "#### 26. 2016 yil yanvar oyiga toʻgʻri keladigan barcha sanalarni NumPy kutubxonasi yordamida aniqlang.\n"
      ]
    },
    {
      "cell_type": "markdown",
      "id": "SU1BWcA8Sw2M",
      "metadata": {
        "id": "SU1BWcA8Sw2M"
      },
      "source": [
        "`💡Ishora` np.arange(dtype=datetime64['D'])"
      ]
    },
    {
      "cell_type": "code",
      "execution_count": 37,
      "id": "5ad086b0",
      "metadata": {
        "id": "5ad086b0"
      },
      "outputs": [
        {
          "name": "stdout",
          "output_type": "stream",
          "text": [
            "['2016-01-01' '2016-01-02' '2016-01-03' '2016-01-04' '2016-01-05'\n",
            " '2016-01-06' '2016-01-07' '2016-01-08' '2016-01-09' '2016-01-10'\n",
            " '2016-01-11' '2016-01-12' '2016-01-13' '2016-01-14' '2016-01-15'\n",
            " '2016-01-16' '2016-01-17' '2016-01-18' '2016-01-19' '2016-01-20'\n",
            " '2016-01-21' '2016-01-22' '2016-01-23' '2016-01-24' '2016-01-25'\n",
            " '2016-01-26' '2016-01-27' '2016-01-28' '2016-01-29' '2016-01-30'\n",
            " '2016-01-31']\n"
          ]
        }
      ],
      "source": [
        "sabalar = np.arange('2016-01-01','2016-02-01',dtype='datetime64[D]')\n",
        "print(sabalar)"
      ]
    },
    {
      "cell_type": "markdown",
      "id": "486df8ea",
      "metadata": {
        "id": "486df8ea"
      },
      "source": [
        "#### 27. 4 xil usul yordamida musbat sonlarning tasodifiy massivining butun son qismini ajratib oling.\n"
      ]
    },
    {
      "cell_type": "markdown",
      "id": "h4QM3bp9TDhb",
      "metadata": {
        "id": "h4QM3bp9TDhb"
      },
      "source": [
        "`💡Ishora` %, np.floor, astype, np.trunc`"
      ]
    },
    {
      "cell_type": "code",
      "execution_count": 39,
      "id": "2680c1ca",
      "metadata": {
        "id": "2680c1ca"
      },
      "outputs": [
        {
          "name": "stdout",
          "output_type": "stream",
          "text": [
            "[5.54319461 2.96071347 9.95175408 8.35624335 0.10508192]\n",
            "\n",
            "1-usul (% bilan): [5. 2. 9. 8. 0.]\n",
            "2-usul (floor bilan): [5. 2. 9. 8. 0.]\n",
            "3-usul (astype bilan): [5 2 9 8 0]\n",
            "4-usul (trunc bilan): [5. 2. 9. 8. 0.]\n"
          ]
        }
      ],
      "source": [
        "arr = np.random.random(5) * 10\n",
        "print(arr)\n",
        "\n",
        "butun1 = arr - arr % 1\n",
        "butun2 = np.floor(arr)\n",
        "butun3 = arr.astype(int)\n",
        "butun4 = np.trunc(arr)\n",
        "\n",
        "\n",
        "\n",
        "print(\"\\n1-usul (% bilan):\", butun1)\n",
        "print(\"2-usul (floor bilan):\", butun2)\n",
        "print(\"3-usul (astype bilan):\", butun3)\n",
        "print(\"4-usul (trunc bilan):\", butun4)"
      ]
    },
    {
      "cell_type": "markdown",
      "id": "6415f02e",
      "metadata": {
        "id": "6415f02e"
      },
      "source": [
        "#### 28. Ixtiyoriy kichik massivlar yarating, ular yigʻindisini `np.sum` funksiyasidanda tezroq hisoblovchi dastur tuzing.\n"
      ]
    },
    {
      "cell_type": "markdown",
      "id": "129e785f",
      "metadata": {
        "id": "129e785f"
      },
      "source": [
        "`💡Ishora` np.add.reduce"
      ]
    },
    {
      "cell_type": "code",
      "execution_count": 47,
      "id": "M0Xv2bB9VYQZ",
      "metadata": {
        "id": "M0Xv2bB9VYQZ"
      },
      "outputs": [
        {
          "name": "stdout",
          "output_type": "stream",
          "text": [
            "19\n",
            "25\n",
            "______________________________\n",
            "19\n",
            "25\n"
          ]
        }
      ],
      "source": [
        "arr1 = np.random.randint(1,10,size=5)\n",
        "arr2 = np.random.randint(1,10,size=5)\n",
        "\n",
        "\n",
        "\n",
        "sum1 = np.sum(arr1)\n",
        "sum2 = np.sum(arr2)\n",
        "print(sum1)\n",
        "print(sum2)\n",
        "\n",
        "\n",
        "print(\"______________________________\")\n",
        "\n",
        "\n",
        "sum3 = np.add.reduce(arr1)\n",
        "sum4 = np.add.reduce(arr2)\n",
        "\n",
        "print(sum3)\n",
        "print(sum4)"
      ]
    },
    {
      "cell_type": "markdown",
      "id": "58be9dd4",
      "metadata": {
        "id": "58be9dd4"
      },
      "source": [
        "#### 29. [1, 2, 3, 4, 5] vektor berilgan, har bir qiymat orasiga ketma-ket 3 ta nol raqamini yozuvchi dastur tuzing.\n"
      ]
    },
    {
      "cell_type": "markdown",
      "id": "9cf9e134",
      "metadata": {
        "id": "9cf9e134"
      },
      "source": [
        "`💡Ishora` array[::4]"
      ]
    },
    {
      "cell_type": "code",
      "execution_count": 49,
      "id": "04IuJ2jaZeYu",
      "metadata": {
        "id": "04IuJ2jaZeYu"
      },
      "outputs": [
        {
          "name": "stdout",
          "output_type": "stream",
          "text": [
            "[1 0 0 0 2 0 0 0 3 0 0 0 4 0 0 0 5]\n"
          ]
        }
      ],
      "source": [
        "vec = np.array([1,2,3,4,5])\n",
        "\n",
        "n = len(vec)\n",
        "result = np.zeros(n + (n - 1) * 3, dtype = int)\n",
        "\n",
        "result[::4] = vec\n",
        "print(result)"
      ]
    },
    {
      "cell_type": "markdown",
      "id": "781fa236",
      "metadata": {
        "id": "781fa236"
      },
      "source": [
        "#### 30. Quyidagi `a` massiv berilgan, a = [1,2,3,4,5,6,7,8,9,10,11,12,13,14] undan foydalangan holda `b` massivni yarata olasizmi, b = [[1,2,3,4], [2,3,4,5], [3,4,5,6], ..., [11,12,13,14]]?"
      ]
    },
    {
      "cell_type": "markdown",
      "id": "82e3d17e",
      "metadata": {
        "id": "82e3d17e"
      },
      "source": [
        "`💡Ishora` stride_tricks.as_strided"
      ]
    },
    {
      "cell_type": "code",
      "execution_count": 51,
      "id": "S1H6ivCua3NZ",
      "metadata": {
        "id": "S1H6ivCua3NZ"
      },
      "outputs": [
        {
          "name": "stdout",
          "output_type": "stream",
          "text": [
            "[ 1  2  3  4  5  6  7  8  9 10 11 12 13 14]\n",
            "[[ 1  2  3  4]\n",
            " [ 2  3  4  5]\n",
            " [ 3  4  5  6]\n",
            " [ 4  5  6  7]\n",
            " [ 5  6  7  8]\n",
            " [ 6  7  8  9]\n",
            " [ 7  8  9 10]\n",
            " [ 8  9 10 11]\n",
            " [ 9 10 11 12]\n",
            " [10 11 12 13]\n",
            " [11 12 13 14]]\n"
          ]
        }
      ],
      "source": [
        "from numpy.lib.stride_tricks import as_strided\n",
        "\n",
        "a = np.array([1,2,3,4,5,6,7,8,9,10,11,12,13,14])\n",
        "\n",
        "window_size = 4\n",
        "\n",
        "b = as_strided(a\n",
        "               ,shape=(len(a) - window_size + 1, window_size),\n",
        "               strides=(a.strides[0],a.strides[0]))\n",
        "\n",
        "print(a)\n",
        "print(b)"
      ]
    },
    {
      "cell_type": "markdown",
      "id": "7d8dc135",
      "metadata": {
        "id": "7d8dc135"
      },
      "source": [
        "#### 31. Ixtiyoriy sonlardan tashkil topgan massiv yarating, unga oʻxshash qiymatlar kiriting. Soʻng, oʻxshash qiymatlarni topuvchi dastur tuzing.\n"
      ]
    },
    {
      "cell_type": "markdown",
      "id": "81844e99",
      "metadata": {
        "id": "81844e99"
      },
      "source": [
        "`💡Ishora` np.bincount, argmax"
      ]
    },
    {
      "cell_type": "code",
      "execution_count": 60,
      "id": "SiRaNwxjbaQN",
      "metadata": {
        "id": "SiRaNwxjbaQN"
      },
      "outputs": [
        {
          "name": "stdout",
          "output_type": "stream",
          "text": [
            "[8 2 2 3 6 1 9 4 9 7 6 7 2 6 2 1 8 0 2 9]\n",
            "________________________________\n",
            "2\n",
            "5\n"
          ]
        }
      ],
      "source": [
        "arr = np.random.randint(10,size=20)\n",
        "print(arr)\n",
        "print(\"________________________________\")\n",
        "\n",
        "counts = np.bincount(arr)\n",
        "\n",
        "most_comon = np.argmax(counts)\n",
        "print(most_comon)\n",
        "print(counts[most_comon])"
      ]
    }
  ],
  "metadata": {
    "colab": {
      "provenance": []
    },
    "hide_input": false,
    "kernelspec": {
      "display_name": "Python 3",
      "language": "python",
      "name": "python3"
    },
    "language_info": {
      "codemirror_mode": {
        "name": "ipython",
        "version": 3
      },
      "file_extension": ".py",
      "mimetype": "text/x-python",
      "name": "python",
      "nbconvert_exporter": "python",
      "pygments_lexer": "ipython3",
      "version": "3.12.10"
    },
    "toc": {
      "base_numbering": 1,
      "nav_menu": {},
      "number_sections": true,
      "sideBar": true,
      "skip_h1_title": false,
      "title_cell": "Table of Contents",
      "title_sidebar": "Contents",
      "toc_cell": false,
      "toc_position": {},
      "toc_section_display": true,
      "toc_window_display": false
    },
    "varInspector": {
      "cols": {
        "lenName": 16,
        "lenType": 16,
        "lenVar": 40
      },
      "kernels_config": {
        "python": {
          "delete_cmd_postfix": "",
          "delete_cmd_prefix": "del ",
          "library": "var_list.py",
          "varRefreshCmd": "print(var_dic_list())"
        },
        "r": {
          "delete_cmd_postfix": ") ",
          "delete_cmd_prefix": "rm(",
          "library": "var_list.r",
          "varRefreshCmd": "cat(var_dic_list()) "
        }
      },
      "types_to_exclude": [
        "module",
        "function",
        "builtin_function_or_method",
        "instance",
        "_Feature"
      ],
      "window_display": false
    }
  },
  "nbformat": 4,
  "nbformat_minor": 5
}
