{
  "cells": [
    {
      "cell_type": "markdown",
      "metadata": {
        "id": "sQu_baY6qoLf"
      },
      "source": [
        "\n",
        "Maʼlumotlar tahlili. Numpy kutubxonasi.\n",
        "\n",
        "8.20. Fayllar bilan ishlash"
      ]
    },
    {
      "cell_type": "code",
      "execution_count": null,
      "metadata": {
        "id": "_E95TeVkqawi"
      },
      "outputs": [],
      "source": [
        "import numpy as np"
      ]
    },
    {
      "cell_type": "code",
      "execution_count": null,
      "metadata": {
        "id": "BigA9ZmKrNCB"
      },
      "outputs": [],
      "source": [
        "arr = np.arange(10)"
      ]
    },
    {
      "cell_type": "code",
      "execution_count": null,
      "metadata": {
        "id": "1j0sbwpArSe6"
      },
      "outputs": [],
      "source": [
        "np.save('data', arr)"
      ]
    },
    {
      "cell_type": "code",
      "execution_count": null,
      "metadata": {
        "id": "xrgo9sfQreh6"
      },
      "outputs": [],
      "source": [
        "arr2= np.load('data.npy')"
      ]
    },
    {
      "cell_type": "code",
      "execution_count": null,
      "metadata": {
        "colab": {
          "base_uri": "https://localhost:8080/"
        },
        "id": "XoFVPNdrrk34",
        "outputId": "3069c918-f9d7-4693-e4ea-6253d6a2cfe9"
      },
      "outputs": [
        {
          "data": {
            "text/plain": [
              "array([0, 1, 2, 3, 4, 5, 6, 7, 8, 9])"
            ]
          },
          "execution_count": 7,
          "metadata": {},
          "output_type": "execute_result"
        }
      ],
      "source": [
        "arr2"
      ]
    },
    {
      "cell_type": "code",
      "execution_count": null,
      "metadata": {
        "id": "_NVcr5RRrloK"
      },
      "outputs": [],
      "source": [
        "arr1 = np.arange(20)"
      ]
    },
    {
      "cell_type": "code",
      "execution_count": null,
      "metadata": {
        "id": "EjBzAdCArsm8"
      },
      "outputs": [],
      "source": [
        "np.savez('arrays',a=arr, b=arr1)"
      ]
    },
    {
      "cell_type": "code",
      "execution_count": null,
      "metadata": {
        "id": "3DdOy65Pr23h"
      },
      "outputs": [],
      "source": [
        "arrays = np.load('arrays.npz')"
      ]
    },
    {
      "cell_type": "code",
      "execution_count": null,
      "metadata": {
        "colab": {
          "base_uri": "https://localhost:8080/"
        },
        "id": "pXTJlYzkr9N2",
        "outputId": "c9a0d4c8-4805-4c28-adcd-b614d5a006e6"
      },
      "outputs": [
        {
          "data": {
            "text/plain": [
              "array([0, 1, 2, 3, 4, 5, 6, 7, 8, 9])"
            ]
          },
          "execution_count": 11,
          "metadata": {},
          "output_type": "execute_result"
        }
      ],
      "source": [
        "arrays['a']"
      ]
    },
    {
      "cell_type": "code",
      "execution_count": null,
      "metadata": {
        "colab": {
          "base_uri": "https://localhost:8080/"
        },
        "id": "_t_RnKy-r_97",
        "outputId": "9b3da566-6e74-425d-f976-7bf3d5fd2084"
      },
      "outputs": [
        {
          "data": {
            "text/plain": [
              "array([ 0,  1,  2,  3,  4,  5,  6,  7,  8,  9, 10, 11, 12, 13, 14, 15, 16,\n",
              "       17, 18, 19])"
            ]
          },
          "execution_count": 12,
          "metadata": {},
          "output_type": "execute_result"
        }
      ],
      "source": [
        "arrays['b']"
      ]
    },
    {
      "cell_type": "code",
      "execution_count": null,
      "metadata": {
        "id": "2zHYxV4-sI-Q"
      },
      "outputs": [],
      "source": [
        "np.savez_compressed('array_comp.npz', a=arr, b=arr1)"
      ]
    },
    {
      "cell_type": "code",
      "execution_count": null,
      "metadata": {
        "id": "CoQwwOxHsSnS"
      },
      "outputs": [],
      "source": []
    }
  ],
  "metadata": {
    "colab": {
      "provenance": []
    },
    "kernelspec": {
      "display_name": "Python 3",
      "name": "python3"
    },
    "language_info": {
      "name": "python"
    }
  },
  "nbformat": 4,
  "nbformat_minor": 0
}
