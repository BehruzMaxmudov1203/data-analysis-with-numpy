{
  "cells": [
    {
      "cell_type": "markdown",
      "metadata": {
        "id": "1DtxwHax0jm_"
      },
      "source": [
        "\n",
        "\n",
        "# Ma'lumotlar tahlili. Numpy kutubxonasi.\n",
        "\n",
        "# **3-YAKUNIY VAZIFA**\n",
        "\n",
        "## N-o'lchamli massivlarga ishov berish"
      ]
    },
    {
      "cell_type": "markdown",
      "metadata": {
        "id": "1yHyw2hb58C9"
      },
      "source": [
        "### Dastlab, kerakli ma'lumotlarni pastki qatordagi cellni yuritish orqali yuklab olamiz:"
      ]
    },
    {
      "cell_type": "code",
      "execution_count": 11,
      "metadata": {
        "id": "5CR5btF10hEt"
      },
      "outputs": [
        {
          "name": "stderr",
          "output_type": "stream",
          "text": [
            "'wget' is not recognized as an internal or external command,\n",
            "operable program or batch file.\n"
          ]
        }
      ],
      "source": [
        "!wget -O GM_Cars.zip \"https://drive.google.com/uc?export=download&id=1i57swZxVA9Xh64eVvylnkIJmKT-4WTZy\" && unzip GM_Cars.zip && rm -r GM_Cars.zip\n"
      ]
    },
    {
      "cell_type": "code",
      "execution_count": 8,
      "metadata": {
        "id": "0UXvdhGW5X_V"
      },
      "outputs": [],
      "source": [
        "# Numpy kutubxonasini chaqirib olish\n",
        "import numpy as np"
      ]
    },
    {
      "cell_type": "code",
      "execution_count": null,
      "metadata": {},
      "outputs": [],
      "source": [
        "import wget\n",
        "import zipfile\n",
        "import os"
      ]
    },
    {
      "cell_type": "code",
      "execution_count": 2,
      "metadata": {},
      "outputs": [],
      "source": [
        "url = \"https://drive.google.com/uc?export=download&id=1i57swZxVA9Xh64eVvylnkIJmKT-4WTZy\"\n"
      ]
    },
    {
      "cell_type": "code",
      "execution_count": 21,
      "metadata": {},
      "outputs": [],
      "source": [
        "with zipfile.ZipFile(\"GM_Cars.zip\", \"r\") as zip_ref:\n",
        "    zip_ref.extractall(\".\")   # Fayllarni hozirgi papkaga ochadi"
      ]
    },
    {
      "cell_type": "markdown",
      "metadata": {
        "id": "prNtMCtv7-Ez"
      },
      "source": [
        "### Masala(1): Ma'lumotlarni yuklab olish.\n",
        "\n",
        "**Ma'lumotlar :** Ma'lumotlar ikkita faylda joylangan bo'lib, bu fayllar nomlari `gm_2020.npz` va `gm_2021.npz` ko'rinishda, bu fayllar mos ravishda GM Uzbekistan tomonidan 2020 va 2021 yillarning yanvar-iyul oylarida ishlab chiqarilgan avtomobillar modellari va ularning sonlari keltirilgan. `npz` kengaytmasidan ko'rinib turibdiki, xar bir fayl o'z ichiga massivlarni(bizning holatda ikkita massiv, (1) Avtomobil modellari nomi, (2) Ishlab chiqarilgan avtomobillar soni) mujassam etgan.\n",
        "\n",
        "Masala sharti shundan iboratki, har bir faylni yuklab ularni ikkita mos massivga ajratuvchi funksiyani davom ettiring. Tuzilajak funksiyangiz argument sifatida fayl nomini qabul qilishini ta'minlang.\n",
        "\n",
        "**Muhim**: Massivlar: `models` va `qnts` nomi ostida saqlangan.\n",
        "\n",
        "**Yordam :**  `load` metodi yordamida yuklab, so'ngra massiv nomlaridan foydalanib natijani qaytaring.\n",
        "\n",
        "**Natija**: Agar funksiyaga `gm_2020.npz` faylini uzatilsa, natija quyidagi ko'rinishda bo'lishi mumkin:\n",
        "\n",
        "(array(['Labo', 'Damas', ......., 'Gentra'], dtype='<U6'), array([ 4521, 30889, ......,  30368]))\n",
        "\n",
        "\n",
        "\n",
        "***Ma'lumot manbasi***: *gazeta.uz*"
      ]
    },
    {
      "cell_type": "code",
      "execution_count": 25,
      "metadata": {
        "id": "6AMnGFKT78eW"
      },
      "outputs": [],
      "source": [
        "# JAVOBNI SHU YERGA YOZING\n",
        "def load_data(file_name):\n",
        "  \"\"\"Har bir faylni yuklab ularni ikkita mos massivga ajratuvchi funksiyani tuzish \"\"\"\n",
        "  data = np.load(file_name)\n",
        "  models = data['models']\n",
        "  qnts = data['qnts']\n",
        "\n",
        "  return models,qnts\n",
        "\n",
        "\n",
        "models_2020, qnts_2020 = load_data(\"GM_Cars/gm_2020.npz\")\n",
        "models_2021, qnts_2021 = load_data(\"GM_Cars/gm_2021.npz\")"
      ]
    },
    {
      "cell_type": "code",
      "execution_count": 26,
      "metadata": {},
      "outputs": [
        {
          "name": "stdout",
          "output_type": "stream",
          "text": [
            "['Labo' 'Damas' 'Spark' 'Nexia' 'Cobalt' 'Gentra']\n",
            "[ 4521 30889 16370 41663 44901 30368]\n"
          ]
        }
      ],
      "source": [
        "print(models_2020)\n",
        "print(qnts_2020)"
      ]
    },
    {
      "cell_type": "code",
      "execution_count": null,
      "metadata": {},
      "outputs": [],
      "source": []
    },
    {
      "cell_type": "markdown",
      "metadata": {
        "id": "TOHdaeniNs4p"
      },
      "source": [
        "____"
      ]
    },
    {
      "cell_type": "markdown",
      "metadata": {
        "id": "50nyWeIANsw5"
      },
      "source": [
        "### Masala(2): Jami ishlab chiqarilgan avtomobillar soni.\n",
        "\n",
        "Yuqorida yaratilingan ma'lumotlarni yuklab ajratib oluvchi funksiyamizdan foydalanib, endilikda ma'lumotlar ustida amallar bajaramiz.\n",
        "\n",
        "**Masala :** Ma'lumotlardan foydalanib, 2020 va 2021  yillarda ishlab chiqarilgan jami avtomobillar sonini hisoblaydigan funksiyani davom ettiring.\n",
        "\n",
        "**Natija**: (168..., ...734) ko'rinishida bo'ladi.\n",
        "\n",
        "Bu yerda 168.... ta avtomabil 2020 yilda ishlab chiqarilgan. 2021 yilda esa ...734 ta avtomabil ishlab chiqarilan."
      ]
    },
    {
      "cell_type": "code",
      "execution_count": 32,
      "metadata": {
        "id": "e7KAlC-C9eo0"
      },
      "outputs": [
        {
          "name": "stdout",
          "output_type": "stream",
          "text": [
            "293446\n"
          ]
        }
      ],
      "source": [
        "# JAVOBNI SHU YERGA YOZING\n",
        "def total_qnts():\n",
        "    \"\"\"Ma'lumotlardan foydalanib, 2020 va 2021 yillarda ishlab chiqarilgan jami avtomobillar sonini hisoblaydigan\n",
        "    funksiya yaratish.\"\"\"\n",
        "    data1 = load_data('GM_Cars/gm_2020.npz') # ma'lumotlar (2020)\n",
        "    data2 = load_data('GM_Cars/gm_2021.npz') # ma'lumotlar (2021)\n",
        "\n",
        "    qnts_2020 = data1[1]\n",
        "    qnts_2021 = data2[1]\n",
        "\n",
        "    total_2020 = np.sum(qnts_2020)\n",
        "    total_2021 = np.sum(qnts_2021)\n",
        "\n",
        "    jami = total_2020 + total_2021\n",
        "\n",
        "    return jami\n",
        "\n",
        "print(total_qnts())\n"
      ]
    },
    {
      "cell_type": "markdown",
      "metadata": {
        "id": "uYA_Gya4OQfv"
      },
      "source": [
        "___"
      ]
    },
    {
      "cell_type": "markdown",
      "metadata": {
        "id": "kwCtIFNxOZua"
      },
      "source": [
        "### Masala(3): Ba'zi avtomabillarning ishlab chiqarilish sonlari.\n",
        "\n",
        "\n",
        "\n",
        "**Masala :** Tasavvur qiling, ish beruvchi sizdan faqatgina `Damas`, `Nexia`, `Cobalt`, va `Gentra`rusumli avtomabillarni 2020 va 2021 yillarda qancha ishlab chiqarilganini barcha ma'lumotlardan ajratib berishni so'radi. Siz, shu vazifani bajaradigan funksiyani davom ettirishingiz kerak.\n",
        "\n",
        " **Yordam**: Boolean indekslash mavzusiga murojat qiling.\n",
        "\n",
        "\n",
        " **Natija**: (array([30889, .....  30368]), array([33682 .....  26266])) ko'rinishida bo'ladi"
      ]
    },
    {
      "cell_type": "code",
      "execution_count": 33,
      "metadata": {
        "id": "u5-rd65SOJ1V"
      },
      "outputs": [
        {
          "name": "stdout",
          "output_type": "stream",
          "text": [
            "2020:  {np.str_('Damas'): np.int32(30889), np.str_('Nexia'): np.int32(41663), np.str_('Cobalt'): np.int32(44901), np.str_('Gentra'): np.int32(30368)}\n",
            "2021:  {np.str_('Damas'): np.int32(33682), np.str_('Nexia'): np.int32(14442), np.str_('Cobalt'): np.int32(36317), np.str_('Gentra'): np.int32(26266)}\n"
          ]
        }
      ],
      "source": [
        "# JAVOBNI SHU YERGA YOZING\n",
        "def sel_models():\n",
        "    \"\"\"Faqatgina Damas, Nexia, Cobalt, va Gentra rusumli avtomabillarni 2020 va 2021 yillarda qancha ishlab chiqarilganini\n",
        "    barcha ma'lumotlardan ajratib olish\"\"\"\n",
        "    data1 = load_data('GM_Cars/gm_2020.npz') # ma'lumotlar (2020)\n",
        "    data2 = load_data('GM_Cars/gm_2021.npz') # ma'lumotlar (2021)\n",
        "    \n",
        "    models_2020, qnts_2020 = load_data('GM_Cars/gm_2020.npz')  # 2020\n",
        "    models_2021, qnts_2021 = load_data('GM_Cars/gm_2021.npz')  # 2021\n",
        "\n",
        "    selected = ['Damas', 'Nexia', 'Cobalt', 'Gentra']\n",
        "\n",
        "\n",
        "    res_2020 = {}\n",
        "    res_2021 = {}\n",
        "\n",
        "    count = 0\n",
        "\n",
        "    for model,qty in zip(models_2020,qnts_2020):\n",
        "        if model in selected:\n",
        "            res_2020[model] = qty\n",
        "    \n",
        "\n",
        "    for model,qty in zip(models_2021,qnts_2021):\n",
        "        if model in selected:\n",
        "            res_2021[model] = qty\n",
        "\n",
        "    \n",
        "\n",
        "    \n",
        "\n",
        "    return res_2020, res_2021\n",
        "\n",
        "res_2020,res_2021 = sel_models()\n",
        "print(\"2020: \",res_2020)\n",
        "print(\"2021: \",res_2021)"
      ]
    },
    {
      "cell_type": "markdown",
      "metadata": {
        "id": "uyK-01a-OyL8"
      },
      "source": [
        "____"
      ]
    },
    {
      "cell_type": "markdown",
      "metadata": {
        "id": "U_Vs1GFqO1hc"
      },
      "source": [
        "### Masala(4): Ba'zi avtomabillarning ishlab chiqarilish sonlari umumiy ishlab chiqarilgan avtomabilarning qancha foizini tashkil etadi.\n",
        "\n",
        "\n",
        "Yuqorida faqatgina `Damas`, `Nexia`, `Cobalt`, va `Gentra`rusumli avtomabillarni 2020 va 2021 yillarda qancha ishlab chiqarilganini barcha ma'lumotlardan ajratib oldik.\n",
        "\n",
        "\n",
        "**Masala :** Ana endilikda shu avtomabillarni jami ishlab chiqarilgan avtomabillarning qancha foizini tashkil etishini hisoblab ko'ramiz. Shu vazifani bajaruvchi funksiyani tuzing.\n",
        "\n",
        " **Yordam**: Masala(2)da jami avtomabillarning sonini hisoblab chiqgan edik, Masala(3)da esa ba'zi avtomabillarning sonini hisoblab topdik. Shu ma'lumotlardan foydalaning.\n",
        "\n",
        " **Hisoblash formulasi:** $$\\frac{Avtomabil\\;soni}{Jami\\; avtomabillar\\; soni}*100% $$\n",
        "\n",
        "\n",
        " **Natija**: (array([18.30871544, ..... 17.99990516]),\n",
        " array([27.00306252, ..... 21.0576106 ])) ko'rinishida bo'ladi\n",
        "\n",
        " Ya'ni, `Damas` rusumli avtomabil 2020 yilda jami ishlab chiqarishning 18.3% ni tashkil etadi 2021 yilda esa 27% ni tashkil etmoqda va h.k.\n"
      ]
    },
    {
      "cell_type": "code",
      "execution_count": 36,
      "metadata": {
        "id": "00f3SuG2Oxce"
      },
      "outputs": [
        {
          "name": "stdout",
          "output_type": "stream",
          "text": [
            "2020-yil foizlar: [18.30871544 24.69474608 26.61399308 17.99990516]\n",
            "2021-yil foizlar: [27.00306252 11.57823849 29.11555791 21.0576106 ]\n"
          ]
        }
      ],
      "source": [
        "import numpy as np\n",
        "\n",
        "def total_qnts():\n",
        "    \"\"\"2020 va 2021 yillarda ishlab chiqarilgan jami avtomobillar sonini hisoblash\"\"\"\n",
        "    _, qnts_2020 = load_data('GM_Cars/gm_2020.npz')\n",
        "    _, qnts_2021 = load_data('GM_Cars/gm_2021.npz')\n",
        "\n",
        "    total_2020 = np.sum(qnts_2020)\n",
        "    total_2021 = np.sum(qnts_2021)\n",
        "\n",
        "    return total_2020, total_2021\n",
        "\n",
        "\n",
        "def sel_models():\n",
        "    \"\"\"Faqatgina Damas, Nexia, Cobalt, va Gentra rusumli avtomobillarni ajratib olish\"\"\"\n",
        "    models_2020, qnts_2020 = load_data('GM_Cars/gm_2020.npz')\n",
        "    models_2021, qnts_2021 = load_data('GM_Cars/gm_2021.npz')\n",
        "\n",
        "    selected = ['Damas', 'Nexia', 'Cobalt', 'Gentra']\n",
        "\n",
        "    res_2020 = {}\n",
        "    res_2021 = {}\n",
        "\n",
        "    for model, qty in zip(models_2020, qnts_2020):\n",
        "        if model in selected:\n",
        "            res_2020[model] = qty\n",
        "\n",
        "    for model, qty in zip(models_2021, qnts_2021):\n",
        "        if model in selected:\n",
        "            res_2021[model] = qty\n",
        "\n",
        "    return res_2020, res_2021\n",
        "\n",
        "\n",
        "def ratio_sel_models():\n",
        "    \"\"\"Ba'zi avtomabillarning ishlab chiqarish hajmi, jami ishlab chiqarilgan avtomabillar hajmining qanday\n",
        "    foizini egallashini hisoblash funksiyasi\"\"\"\n",
        "    res_2020, res_2021 = sel_models()\n",
        "    total_2020, total_2021 = total_qnts()\n",
        "\n",
        "    percent_2020 = np.array([(val / total_2020) * 100 for val in res_2020.values()])\n",
        "    percent_2021 = np.array([(val / total_2021) * 100 for val in res_2021.values()])\n",
        "\n",
        "    return percent_2020, percent_2021\n",
        "\n",
        "\n",
        "# --- Sinab ko‘ramiz ---\n",
        "p2020, p2021 = ratio_sel_models()\n",
        "print(\"2020-yil foizlar:\", p2020)\n",
        "print(\"2021-yil foizlar:\", p2021)\n"
      ]
    }
  ],
  "metadata": {
    "colab": {
      "provenance": []
    },
    "kernelspec": {
      "display_name": "Python 3",
      "name": "python3"
    },
    "language_info": {
      "codemirror_mode": {
        "name": "ipython",
        "version": 3
      },
      "file_extension": ".py",
      "mimetype": "text/x-python",
      "name": "python",
      "nbconvert_exporter": "python",
      "pygments_lexer": "ipython3",
      "version": "3.12.10"
    }
  },
  "nbformat": 4,
  "nbformat_minor": 0
}
