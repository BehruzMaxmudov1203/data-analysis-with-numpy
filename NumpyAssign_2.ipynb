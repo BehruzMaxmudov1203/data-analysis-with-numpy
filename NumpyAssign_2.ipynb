{
  "cells": [
    {
      "cell_type": "markdown",
      "metadata": {
        "id": "hM7RtlAGm4aO"
      },
      "source": [
        "## Ma'lumotlar tahlili. Numpy kutubxonasi.\n",
        "\n",
        "# **2-AMALIY VAZIFA**\n",
        "\n",
        "## N-o'lchamli massivlarga ishov berish"
      ]
    },
    {
      "cell_type": "code",
      "execution_count": 1,
      "metadata": {
        "id": "-7ik1fFSmsZc"
      },
      "outputs": [],
      "source": [
        "# Numpy kutubxonasini chaqirib olish\n",
        "import numpy as np"
      ]
    },
    {
      "cell_type": "markdown",
      "metadata": {
        "id": "hQT_temqnMSX"
      },
      "source": [
        "### Masala(1): 2-o'lchamli massiv yaratish\n",
        "\n",
        "**Masala sharti :** Elementlari 0 dan 9 gacha (9 ning o'zi massiv elementiga kirmaydi), qadami esa 1 ga teng bo'lgan (3, 3) o'lchamli massiv yaratuvchi funksiyani davom ettiring.  \n",
        "\n",
        "**Yordam :**  `arange`dan foydalanish ishni osonlashtiradi\n"
      ]
    },
    {
      "cell_type": "code",
      "execution_count": 12,
      "metadata": {
        "id": "DN8F8hFSnLpj"
      },
      "outputs": [
        {
          "name": "stdout",
          "output_type": "stream",
          "text": [
            "[[0 1 2]\n",
            " [3 4 5]\n",
            " [6 7 8]]\n"
          ]
        }
      ],
      "source": [
        "# JAVOBNI SHU YERGA YOZING\n",
        "def nd_array():\n",
        "  \"\"\"Elementlari 0 dan 9 gacha (9 ning o'zi massiv elementiga kirmaydi),\n",
        "  qadami esa 1 ga teng bo'lgan (3, 3) o'lchamli massiv \"\"\"\n",
        "\n",
        "  result = np.arange(9).reshape(3,3)\n",
        "  return result\n",
        "print(nd_array())"
      ]
    },
    {
      "cell_type": "markdown",
      "metadata": {
        "id": "uD-JFFzZq-ph"
      },
      "source": [
        "### Yuqoridagi yozgan funksiyangizni tekshirish uchun, quyidagi cellni yuriting."
      ]
    },
    {
      "cell_type": "markdown",
      "metadata": {
        "id": "r3P1nO9GrxVb"
      },
      "source": [
        "___"
      ]
    },
    {
      "cell_type": "code",
      "execution_count": 11,
      "metadata": {
        "cellView": "form",
        "id": "gBXUGXYspqq2"
      },
      "outputs": [
        {
          "name": "stderr",
          "output_type": "stream",
          "text": [
            "C:\\Users\\behru\\AppData\\Local\\Temp\\ipykernel_23024\\115458839.py:9: DeprecationWarning: `in1d` is deprecated. Use `np.isin` instead.\n",
            "  assert True in np.in1d(arr, test_arr), f\"elementlararo xatolik mavjud\"\n"
          ]
        }
      ],
      "source": [
        "#@title Tekshirish (natijada hech qanday xatolik yuz bermasligi kerak)\n",
        "\"\"\"Funksiyani tekshirish\"\"\"\n",
        "arr = nd_array() # massiv\n",
        "assert arr.size == 9, f\"elementlar sonida xatolik mavjud\"  # elementlar soni\n",
        "assert type(arr) == np.ndarray, f\"massiv aniqlanmadi\" #numpy array\n",
        "# elementwise test\n",
        "test_arr = np.arange(9).reshape(3, 3)\n",
        "assert arr.shape == (3, 3), f\"noto'g'ri qator va ustunlardan foydalanilgan\"\n",
        "assert True in np.in1d(arr, test_arr), f\"elementlararo xatolik mavjud\"\n"
      ]
    },
    {
      "cell_type": "markdown",
      "metadata": {
        "id": "M2NZoO65rwji"
      },
      "source": [
        "###  Masala(2): Indeks yordamida 2-o'lchamli massivlardan elementlarni  kesib olish\n",
        "**Masala :** Yuqorida yaratilgan massivning elementlari 6 va 7 ga teng bo'lgan qismini kesib olish funksiyasini davom ettiring.\n",
        "\n",
        "**Yordam :** 6 va 7 turgan indekslarni aniqlab olib, shu indekslar yordamida kesib oling. **Natija:** array([6, 7]) ko'rinishida bo'lishi kerak."
      ]
    },
    {
      "cell_type": "code",
      "execution_count": 26,
      "metadata": {
        "id": "45Tw2aNeqxRM"
      },
      "outputs": [
        {
          "name": "stdout",
          "output_type": "stream",
          "text": [
            "[6 7]\n"
          ]
        }
      ],
      "source": [
        "# JAVOBNI SHU YERGA YOZING\n",
        "def sliced_array_2d():\n",
        "    \"\"\"Yuqorida yaratilgan massivning elementlari 6 va 7 ga teng bo'lgan\n",
        "     qismini kesib olish funksiyasi \"\"\"\n",
        "    array = nd_array() # yuqoridagi funksiya yordamida array yaratib olish\n",
        "    result = array[(array == 6) | (array == 7)]\n",
        "    return result\n",
        "\n",
        "print(sliced_array_2d())"
      ]
    },
    {
      "cell_type": "markdown",
      "metadata": {
        "id": "87LBvb1fr9kT"
      },
      "source": [
        "### Yuqoridagi yozgan funksiyangizni tekshirish uchun, quyidagi cellni yuriting."
      ]
    },
    {
      "cell_type": "code",
      "execution_count": 27,
      "metadata": {
        "cellView": "form",
        "id": "nUNM0mYGsA18"
      },
      "outputs": [
        {
          "name": "stderr",
          "output_type": "stream",
          "text": [
            "C:\\Users\\behru\\AppData\\Local\\Temp\\ipykernel_23024\\1245575617.py:9: DeprecationWarning: `in1d` is deprecated. Use `np.isin` instead.\n",
            "  assert True in np.in1d(sl_arr_2d, test_arr), f\"elementlararo xatolik mavjud\"\n"
          ]
        }
      ],
      "source": [
        "#@title Tekshirish (natijada hech qanday xatolik yuz bermasligi kerak)\n",
        "\"\"\"Funksiyani tekshirish\"\"\"\n",
        "sl_arr_2d = sliced_array_2d() # kesib olingan massiv\n",
        "assert sl_arr_2d.size == 2, f\"elementlar sonida xatolik mavjud\"  # elementlar soni\n",
        "assert type(sl_arr_2d) == np.ndarray, f\"massiv aniqlanmadi\" #numpy array\n",
        "# elementwise test\n",
        "test_arr = np.array([6, 7])\n",
        "assert sl_arr_2d.shape == (2,), f\"kesib olingan massiv shaklida xatolik mavjud\"\n",
        "assert True in np.in1d(sl_arr_2d, test_arr), f\"elementlararo xatolik mavjud\""
      ]
    },
    {
      "cell_type": "markdown",
      "metadata": {
        "id": "Msz8_E_gtEef"
      },
      "source": [
        "___"
      ]
    },
    {
      "cell_type": "markdown",
      "metadata": {
        "id": "lX5Y2HQ1taOa"
      },
      "source": [
        "###  Masala(3): Indeks yordamida 3-o'lchamli massivdan elementlarni kesib olish\n",
        "\n",
        "**Masala :**  3-o'lchamli massivni quyidagi listdan yarating, hamda 12, 13, 15, va 16  elementlarini kesib oluvchi funksiyani davom ettiring.  \n",
        "\n",
        "                  [[[ 0,  1,  2],\n",
        "                    [ 3,  4,  5],\n",
        "                    [ 6,  7,  8]],\n",
        "\n",
        "                   [[ 9, 10, 11],\n",
        "                    [12, 13, 14],\n",
        "                    [15, 16, 17]],\n",
        "\n",
        "                   [[18, 19, 20],\n",
        "                    [21, 22, 23],\n",
        "                    [24, 25, 26]]]\n",
        "\n",
        "**Yordam :** Avval massivni ikki o'lchamli massivga keltirib, keyin kesib olishni amalga oshiring.\n",
        "\n",
        "\n",
        "**Natija:**  \n",
        "\n",
        "             array([[12, 13],\n",
        "                    [15, 16]])\n",
        "ko'rinishida bo'lishi kerak."
      ]
    },
    {
      "cell_type": "code",
      "execution_count": 36,
      "metadata": {},
      "outputs": [],
      "source": [
        "list_3d = [\n",
        "    [[0, 1, 2],\n",
        "     [3, 4, 5],\n",
        "     [6, 7, 8]],\n",
        "\n",
        "    [[9, 10, 11],\n",
        "     [12, 13, 14],\n",
        "     [15, 16, 17]],\n",
        "\n",
        "    [[18, 19, 20],\n",
        "     [21, 22, 23],\n",
        "     [24, 25, 26]]\n",
        "]"
      ]
    },
    {
      "cell_type": "code",
      "execution_count": 67,
      "metadata": {},
      "outputs": [
        {
          "data": {
            "text/plain": [
              "[[[0, 1, 2], [3, 4, 5], [6, 7, 8]],\n",
              " [[9, 10, 11], [12, 13, 14], [15, 16, 17]],\n",
              " [[18, 19, 20], [21, 22, 23], [24, 25, 26]]]"
            ]
          },
          "execution_count": 67,
          "metadata": {},
          "output_type": "execute_result"
        }
      ],
      "source": [
        "list_3d"
      ]
    },
    {
      "cell_type": "code",
      "execution_count": 77,
      "metadata": {
        "id": "Ogntt8ivs7rY"
      },
      "outputs": [
        {
          "name": "stdout",
          "output_type": "stream",
          "text": [
            "[[12 13]\n",
            " [15 16]]\n"
          ]
        }
      ],
      "source": [
        "# JAVOBNI SHU YERGA YOZING\n",
        "def sliced_array_3d():\n",
        "    \"\"\"3-o'lchamli massivni yuqoridagi listdan yaratish,\n",
        "    hamda 12, 13, 15, va 16 elementlarini kesib olish funksiyasi\"\"\"\n",
        "\n",
        "    w = np.array(list_3d)\n",
        "    result = w[1][1:,:2]\n",
        "    return result\n",
        "\n",
        "\n",
        "print(sliced_array_3d())"
      ]
    },
    {
      "cell_type": "code",
      "execution_count": 78,
      "metadata": {
        "cellView": "form",
        "id": "3oGeE5yLt6Lg"
      },
      "outputs": [
        {
          "name": "stderr",
          "output_type": "stream",
          "text": [
            "C:\\Users\\behru\\AppData\\Local\\Temp\\ipykernel_23024\\4209155225.py:10: DeprecationWarning: `in1d` is deprecated. Use `np.isin` instead.\n",
            "  assert True in np.in1d(sl_arr_3d, test_arr), f\"elemtlararo xatolik mavjud\"\n"
          ]
        }
      ],
      "source": [
        "#@title Tekshirish (natijada hech qanday xatolik yuz bermasligi kerak)\n",
        "\"\"\"Funksiyani tekshirish\"\"\"\n",
        "sl_arr_3d = sliced_array_3d() # kesib olingan massiv\n",
        "assert sl_arr_3d.size == 4, f\"kesib olingan elementlar sonida xatolik\" # elementlar soni\n",
        "assert type(sl_arr_3d) == np.ndarray, f\"massiv aniqlanmadi\" #numpy array\n",
        "# elementwise test\n",
        "test_arr = np.array([[12, 13],\n",
        "                     [15, 16]])\n",
        "assert sl_arr_3d.shape == (2,2), f\"kesib olingan massiv shaklida xatolik mavjud\"\n",
        "assert True in np.in1d(sl_arr_3d, test_arr), f\"elemtlararo xatolik mavjud\""
      ]
    },
    {
      "cell_type": "markdown",
      "metadata": {
        "id": "LFSATVx6voGP"
      },
      "source": [
        "___"
      ]
    },
    {
      "cell_type": "markdown",
      "metadata": {
        "id": "FVkfhm-Tvqxx"
      },
      "source": [
        "###  Masala(4): Boolean indeks yordamida 2-o'lchamli massivlardan elementlarni  kesib olish\n",
        "\n",
        "**Masala :** Bizlarda,  \n",
        "        \n",
        "        ['Hasan', 'Husan', 'Javohir', 'Elyor', 'Hasan', 'Javohir', 'Elyor']\n",
        "\n",
        "**list**dagi kishilar va ularning **ma'lumot**lari\n",
        "       \n",
        "      [[5, 6, 1, 1],\n",
        "       [9, 1, 1, 1],\n",
        "       [7, 7, 4, 2],\n",
        "       [1, 5, 1, 9],\n",
        "       [9, 9, 4, 5],\n",
        "       [7, 5, 9, 6],\n",
        "       [5, 3, 7, 4]]\n",
        "ko'rinishda keltirilgan.\n",
        "\n",
        "\n",
        "Mana shu ma'lumotlardan **Javohir** va **Elyor** ismlariga tegishli ma'lumotlarni Boolean indekslash yordamida kesib olish funksiyasini davom ettiring.\n",
        "**Yordam :** Boolean indekslash video darsligiga murojat qiling.\n",
        "**Natija:** Natija (4, 4) o'lchamli massiv ko'rinishida, hamda dastlabki ikkita qattori quyidagicha\n",
        "\n",
        "    array([[7, 7, 4, 2],\n",
        "           [1, 5, 1, 9],\n",
        "           ...\n",
        "           ...        ]])"
      ]
    },
    {
      "cell_type": "code",
      "execution_count": 87,
      "metadata": {},
      "outputs": [],
      "source": [
        "name = np.array(['Hasan', 'Husan', 'Javohir', 'Elyor', 'Hasan', 'Javohir', 'Elyor'])\n",
        "data = np.array([[5, 6, 1, 1],\n",
        "       [9, 1, 1, 1],\n",
        "       [7, 7, 4, 2],\n",
        "       [1, 5, 1, 9],\n",
        "       [9, 9, 4, 5],\n",
        "       [7, 5, 9, 6],\n",
        "       [5, 3, 7, 4]])"
      ]
    },
    {
      "cell_type": "code",
      "execution_count": 88,
      "metadata": {},
      "outputs": [
        {
          "data": {
            "text/plain": [
              "array(['Hasan', 'Husan', 'Javohir', 'Elyor', 'Hasan', 'Javohir', 'Elyor'],\n",
              "      dtype='<U7')"
            ]
          },
          "execution_count": 88,
          "metadata": {},
          "output_type": "execute_result"
        }
      ],
      "source": [
        "name"
      ]
    },
    {
      "cell_type": "code",
      "execution_count": 89,
      "metadata": {},
      "outputs": [
        {
          "data": {
            "text/plain": [
              "array([[5, 6, 1, 1],\n",
              "       [9, 1, 1, 1],\n",
              "       [7, 7, 4, 2],\n",
              "       [1, 5, 1, 9],\n",
              "       [9, 9, 4, 5],\n",
              "       [7, 5, 9, 6],\n",
              "       [5, 3, 7, 4]])"
            ]
          },
          "execution_count": 89,
          "metadata": {},
          "output_type": "execute_result"
        }
      ],
      "source": [
        "data"
      ]
    },
    {
      "cell_type": "code",
      "execution_count": 91,
      "metadata": {
        "id": "VDCIeFdtuamf"
      },
      "outputs": [
        {
          "name": "stdout",
          "output_type": "stream",
          "text": [
            "[[7 7 4 2]\n",
            " [1 5 1 9]\n",
            " [7 5 9 6]\n",
            " [5 3 7 4]]\n"
          ]
        }
      ],
      "source": [
        "# JAVOBNI SHU YERGA YOZING\n",
        "def boolean_slicing():\n",
        "    \"\"\"Boolean indekslash yordamida ma'lumotlarni kesib olish \"\"\"\n",
        "    w = data[(name == \"Javohir\") | (name == \"Elyor\")]\n",
        "    return w\n",
        "print(boolean_slicing())"
      ]
    },
    {
      "cell_type": "markdown",
      "metadata": {
        "id": "OkUGtgD7wD6J"
      },
      "source": [
        "### Yuqoridagi yozgan funksiyangizni tekshirish uchun, quyidagi cellni yuriting."
      ]
    },
    {
      "cell_type": "code",
      "execution_count": 92,
      "metadata": {
        "cellView": "form",
        "id": "sxOxSISOwEsX"
      },
      "outputs": [
        {
          "name": "stderr",
          "output_type": "stream",
          "text": [
            "C:\\Users\\behru\\AppData\\Local\\Temp\\ipykernel_23024\\1514051669.py:12: DeprecationWarning: `in1d` is deprecated. Use `np.isin` instead.\n",
            "  assert True in np.in1d(bool_idx, test_arr), f\"elemetlararo xatolik mavjud\"\n"
          ]
        }
      ],
      "source": [
        "#@title Tekshirish (natijada hech qanday xatolik yuz bermasligi kerak)\n",
        "\"\"\"Funksiyani tekshirish\"\"\"\n",
        "bool_idx = boolean_slicing() # kesib olingan massiv\n",
        "assert bool_idx.size == 16, f\"kesib olingan elementlar sonida xatolik mavjud\"  # elementlar soni\n",
        "assert type(bool_idx) == np.ndarray, f\"massiv aniqlanmadi\" #numpy array\n",
        "# elementwise test\n",
        "test_arr = np.array([[7, 7, 4, 2],\n",
        "                     [1, 5, 1, 9],\n",
        "                     [7, 5, 9, 6],\n",
        "                     [5, 3, 7, 4]])\n",
        "assert bool_idx.shape == (4,4), f\"kesib olingan massiv shaklida xatolik mavjud\"\n",
        "assert True in np.in1d(bool_idx, test_arr), f\"elemetlararo xatolik mavjud\""
      ]
    },
    {
      "cell_type": "code",
      "execution_count": null,
      "metadata": {},
      "outputs": [],
      "source": []
    }
  ],
  "metadata": {
    "colab": {
      "provenance": []
    },
    "kernelspec": {
      "display_name": "Python 3",
      "name": "python3"
    },
    "language_info": {
      "codemirror_mode": {
        "name": "ipython",
        "version": 3
      },
      "file_extension": ".py",
      "mimetype": "text/x-python",
      "name": "python",
      "nbconvert_exporter": "python",
      "pygments_lexer": "ipython3",
      "version": "3.12.10"
    }
  },
  "nbformat": 4,
  "nbformat_minor": 0
}
